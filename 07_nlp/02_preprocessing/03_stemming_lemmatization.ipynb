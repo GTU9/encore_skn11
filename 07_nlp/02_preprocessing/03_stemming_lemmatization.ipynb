{
 "cells": [
  {
   "cell_type": "markdown",
   "metadata": {},
   "source": [
    "# 어간/표제어 추출\n",
    "\n",
    "**어간 (Stem)**\n",
    "- 단어의 의미를 담고 있는 단어의 핵심 부분\n",
    "\n",
    "**표제어 (Lemma)**\n",
    "- 단어의 사전적 형태 (단어의 기본형)\n",
    "- 언어의 문법적 규칙에 따라 변형된 단어를 원래 형태로 돌려놓는 것\n",
    "\n",
    "**왜 추출할까?**\n",
    "1. 의미 일괄성\n",
    "2. 데이터 차원 감소\n",
    "3. 노이즈 감소\n",
    "4. 정확성 향상"
   ]
  },
  {
   "cell_type": "code",
   "execution_count": 11,
   "metadata": {},
   "outputs": [
    {
     "name": "stdout",
     "output_type": "stream",
     "text": [
      "['The', 'runners', 'were', 'running', 'swiftly', 'and', 'easily', '.', 'They', 'ran', 'past', 'the', 'finish', 'line', '.']\n",
      "['the', 'runner', 'were', 'run', 'swiftli', 'and', 'easili', '.', 'they', 'ran', 'past', 'the', 'finish', 'line', '.']\n"
     ]
    }
   ],
   "source": [
    "# 어간 추출\n",
    "from nltk.stem import PorterStemmer\n",
    "from nltk.tokenize import word_tokenize\n",
    "\n",
    "text = \"The runners were running swiftly and easily. They ran past the finish line.\"\n",
    "\n",
    "tokens=word_tokenize(text)\n",
    "\n",
    "stemmer=PorterStemmer()\n",
    "stemmer_tokens=[stemmer.stem(token) for token in tokens]\n",
    "\n",
    "print(tokens)\n",
    "print(stemmer_tokens)"
   ]
  },
  {
   "cell_type": "code",
   "execution_count": 13,
   "metadata": {},
   "outputs": [
    {
     "name": "stdout",
     "output_type": "stream",
     "text": [
      "['The', 'runners', 'were', 'running', 'swiftly', 'and', 'easily', '.', 'They', 'ran', 'past', 'the', 'finish', 'line', '.']\n",
      "['The', 'runners', 'be', 'run', 'swiftly', 'and', 'easily', '.', 'They', 'run', 'past', 'the', 'finish', 'line', '.']\n"
     ]
    }
   ],
   "source": [
    "# 표제어 표출\n",
    "from nltk.stem import WordNetLemmatizer\n",
    "\n",
    "tokens= word_tokenize(text)\n",
    "\n",
    "lemmatizer=WordNetLemmatizer()\n",
    "lemmatizer_tokens=[lemmatizer.lemmatize(token,pos='v') for token in tokens]\n",
    "\n",
    "print(tokens)\n",
    "print(lemmatizer_tokens)"
   ]
  },
  {
   "cell_type": "markdown",
   "metadata": {},
   "source": [
    "# 정규표현식 (Regular Expression)"
   ]
  },
  {
   "cell_type": "markdown",
   "metadata": {},
   "source": [
    "- 특정한 규칙을 가진 문자열을 찾기 위한 패턴\n",
    "- 정규 표현식을 사용하면 대량의 텍스트 데이터에서 특정 패턴을 효율적으로 추출, 삭제, 대체 가능"
   ]
  },
  {
   "cell_type": "code",
   "execution_count": 14,
   "metadata": {},
   "outputs": [],
   "source": [
    "import re"
   ]
  },
  {
   "cell_type": "markdown",
   "metadata": {},
   "source": [
    "##### 임의의 한 글자 ."
   ]
  },
  {
   "cell_type": "code",
   "execution_count": 22,
   "metadata": {},
   "outputs": [
    {
     "name": "stdout",
     "output_type": "stream",
     "text": [
      "<re.Match object; span=(0, 3), match='abc'>\n",
      "<re.Match object; span=(7, 10), match='abc'>\n",
      "['abc', 'abc']\n",
      "<re.Match object; span=(0, 3), match='aXc'>\n",
      "<re.Match object; span=(0, 3), match='a c'>\n",
      "None\n",
      "None\n"
     ]
    }
   ],
   "source": [
    "reg_exp=re.compile('a.c')\n",
    "\n",
    "print(reg_exp.search('abc'))\n",
    "print(reg_exp.search('fdsafdsabcfdsafdsa'))\n",
    "print(reg_exp.findall('afdsaabcfdsjkebcabc'))\n",
    "print(reg_exp.search('aXc'))\n",
    "print(reg_exp.search('a c'))\n",
    "print(reg_exp.search('ac'))\n",
    "print(reg_exp.search('bc'))"
   ]
  },
  {
   "cell_type": "markdown",
   "metadata": {},
   "source": [
    "##### 수량자 *"
   ]
  },
  {
   "cell_type": "code",
   "execution_count": null,
   "metadata": {},
   "outputs": [
    {
     "name": "stdout",
     "output_type": "stream",
     "text": [
      "<re.Match object; span=(0, 2), match='ac'>\n",
      "None\n",
      "<re.Match object; span=(0, 3), match='abc'>\n",
      "None\n",
      "<re.Match object; span=(0, 12), match='abbbbbbbbbbc'>\n"
     ]
    }
   ],
   "source": [
    "reg_exp=re.compile('ab*c')      # a로 시작 + b가 0개 이상 + c로 끝\n",
    "\n",
    "print(reg_exp.search('ac'))\n",
    "print(reg_exp.search('ab'))\n",
    "print(reg_exp.search('abc'))\n",
    "print(reg_exp.search('adc'))\n",
    "print(reg_exp.search('abbbbbbbbbbc'))"
   ]
  },
  {
   "cell_type": "markdown",
   "metadata": {},
   "source": [
    "##### 수량자 ? : 0개 또는 1개"
   ]
  },
  {
   "cell_type": "code",
   "execution_count": null,
   "metadata": {},
   "outputs": [],
   "source": [
    "reg_exp=re.compile('ab?c')  # a로 시작 + b가 0개 또는 1개 + c로 끝\n",
    "\n",
    "print(reg_exp.search('ac'))\n",
    "print(reg_exp.search('ab'))\n",
    "print(reg_exp.search('abc'))\n",
    "print(reg_exp.search('adc'))\n",
    "print(reg_exp.search('abbbbbbbbbbc'))"
   ]
  },
  {
   "cell_type": "markdown",
   "metadata": {},
   "source": [
    "##### 수량자 {n}"
   ]
  },
  {
   "cell_type": "markdown",
   "metadata": {},
   "source": [
    "##### 수량자 {min,max}"
   ]
  }
 ],
 "metadata": {
  "kernelspec": {
   "display_name": "pystudy_env",
   "language": "python",
   "name": "python3"
  },
  "language_info": {
   "codemirror_mode": {
    "name": "ipython",
    "version": 3
   },
   "file_extension": ".py",
   "mimetype": "text/x-python",
   "name": "python",
   "nbconvert_exporter": "python",
   "pygments_lexer": "ipython3",
   "version": "3.12.9"
  }
 },
 "nbformat": 4,
 "nbformat_minor": 2
}
