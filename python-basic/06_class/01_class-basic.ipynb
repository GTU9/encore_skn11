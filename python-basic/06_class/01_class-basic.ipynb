{
 "cells": [
  {
   "cell_type": "markdown",
   "metadata": {},
   "source": [
    "### 클래스"
   ]
  },
  {
   "cell_type": "code",
   "execution_count": 4,
   "metadata": {},
   "outputs": [
    {
     "name": "stdout",
     "output_type": "stream",
     "text": [
      "용왕은 1004살이고, 취미는 ['순대시식']입니다.\n",
      "거북이은 100살이고, 취미는 ['부검']입니다.\n",
      "토끼은 14살이고, 취미는 ['간빼기']입니다.\n"
     ]
    }
   ],
   "source": [
    "name = '용왕'\n",
    "age = 1004\n",
    "hobby = ['순대시식']\n",
    "print(f'{name}은 {age}살이고, 취미는 {hobby}입니다.')\n",
    "\n",
    "name = '거북이'\n",
    "age = 100\n",
    "hobby = ['부검']\n",
    "print(f'{name}은 {age}살이고, 취미는 {hobby}입니다.')\n",
    "\n",
    "name = '토끼'\n",
    "age = 14\n",
    "hobby = ['간빼기']\n",
    "print(f'{name}은 {age}살이고, 취미는 {hobby}입니다.')"
   ]
  },
  {
   "cell_type": "code",
   "execution_count": 5,
   "metadata": {},
   "outputs": [],
   "source": [
    "class Friend:\n",
    "    def __init__(self, name, age, hobby):\n",
    "        self.name = name\n",
    "        self.age = age\n",
    "        self.hobby = hobby \n",
    "\n",
    "    def introduce(self):\n",
    "        print(f'{self.name}은 {self.age}살이고, 취미는 {self.hobby}입니다.')"
   ]
  },
  {
   "cell_type": "code",
   "execution_count": 6,
   "metadata": {},
   "outputs": [
    {
     "name": "stdout",
     "output_type": "stream",
     "text": [
      "용왕은 1004살이고, 취미는 ['순대시식']입니다.\n",
      "거북이은 100살이고, 취미는 ['부검']입니다.\n",
      "토끼은 14살이고, 취미는 ['간뺴기']입니다.\n"
     ]
    }
   ],
   "source": [
    "friend1 = Friend('용왕', '1004', ['순대시식'])\n",
    "friend2 = Friend('거북이', '100', ['부검'])\n",
    "friend3 = Friend('토끼', '14', ['간뺴기'])\n",
    "\n",
    "friend1.introduce()\n",
    "friend2.introduce()\n",
    "friend3.introduce()"
   ]
  },
  {
   "cell_type": "code",
   "execution_count": null,
   "metadata": {},
   "outputs": [],
   "source": [
    "class Student:\n",
    "\n",
    "    # 1. 클랙스 속성\n",
    "    dream = \"취업\"\n",
    "\n",
    "    # 2. 생성자 \n",
    "\n",
    "\n",
    "    # 3. 메서드\n",
    "    def study(self):\n",
    "        print('오늘도 열심히 공부하는 11기 학생!')"
   ]
  },
  {
   "cell_type": "code",
   "execution_count": null,
   "metadata": {},
   "outputs": [
    {
     "name": "stdout",
     "output_type": "stream",
     "text": [
      "<__main__.Student object at 0x00000236D452FEF0>\n",
      "<__main__.Student object at 0x00000236D452FDD0>\n"
     ]
    }
   ],
   "source": [
    "student = Student() #객체생성\n",
    "student_two = Student()\n",
    "\n",
    "# 생성자 호출 시마다 메모리에 새로운 인스턴스를 할당하므로, 인스턴스의 주소값이 다른 것을 볼 수 있음\n",
    "print(student)\n",
    "print(student_two)"
   ]
  },
  {
   "cell_type": "code",
   "execution_count": 8,
   "metadata": {},
   "outputs": [],
   "source": [
    "class Student:\n",
    "\n",
    "    # 1.클래스 속성\n",
    "    dream =\"취업\"\n",
    "\n",
    "    # 2 생성자\n",
    "    def __init__(self, name, phone):\n",
    "        self.name = name\n",
    "        self.phone = phone\n",
    "        \n",
    "    # 3.메서드\n",
    "    def study(self):\n",
    "        print('오늘도 열심히 공부하는 11기 학생!')\n"
   ]
  },
  {
   "cell_type": "code",
   "execution_count": 9,
   "metadata": {},
   "outputs": [
    {
     "name": "stdout",
     "output_type": "stream",
     "text": [
      "취업\n",
      "삼육대생 010-3636-3636\n",
      "오늘도 열심히 공부하는 11기 학생!\n"
     ]
    }
   ],
   "source": [
    "student = Student('삼육대생','010-3636-3636')\n",
    "\n",
    "print(student.dream)\n",
    "print(student.name, student.phone)\n",
    "student.study()"
   ]
  },
  {
   "cell_type": "code",
   "execution_count": 10,
   "metadata": {},
   "outputs": [],
   "source": [
    "class Student:\n",
    "    # 1. 클래스 속성\n",
    "    dream = [\"취업\"]\n",
    "\n",
    "    #2. 생성자\n",
    "    def __init__(self, name, phone):\n",
    "        self.name = name\n",
    "        self.phone = phone\n",
    "\n",
    "    #3. 메서드\n",
    "    def study(self):\n",
    "        print('오늘도 열심히 공부하는 11기 학생!')\n",
    "\n",
    "    def introduce(self):\n",
    "        print(f'저는 {self.name}이구요. 전화번호는{self.phone}입니다. 제가 이루고 싶은 목표는! {self.dream}')"
   ]
  },
  {
   "cell_type": "code",
   "execution_count": 11,
   "metadata": {},
   "outputs": [
    {
     "name": "stdout",
     "output_type": "stream",
     "text": [
      "저는 삼육대생이구요. 전화번호는010-3636-3636입니다. 제가 이루고 싶은 목표는! ['취업']\n"
     ]
    }
   ],
   "source": [
    "student = Student('삼육대생','010-3636-3636')\n",
    "\n",
    "student.introduce()"
   ]
  },
  {
   "cell_type": "code",
   "execution_count": null,
   "metadata": {},
   "outputs": [],
   "source": [
    "class Character:\n",
    "\n",
    "    def __init__(self, nickname, type):\n",
    "        self.nickname =nickname\n",
    "        self.__type = type\n",
    "\n",
    "    def get_type(self):\n",
    "        return self.__type\n",
    "    \n",
    "    def set_type(self, type):\n",
    "        Character_types =['전사', '법사', '치유사']\n",
    "        for given_type in Character_types:\n",
    "            if(type == given_type):\n",
    "                self.__type = type\n",
    "                return\n",
    "\n",
    "        raise ValueError(\"잘못된 캐릭터 타입을 선택하였습니다.\")"
   ]
  },
  {
   "cell_type": "code",
   "execution_count": null,
   "metadata": {},
   "outputs": [
    {
     "name": "stdout",
     "output_type": "stream",
     "text": [
      "산골짜기다람쥐\n",
      "'Character' object has no attribute '__type'\n",
      "전사\n",
      "법사\n",
      "잘못된 캐릭터 타입을 선택하였습니다.\n"
     ]
    }
   ],
   "source": [
    "my_character = Character(\"산골짜기다람쥐\", \"전사\")\n",
    "print(my_character.nickname)\n",
    "\n",
    "try:\n",
    "    print(my_character.__type)\n",
    "except AttributeError as e:\n",
    "    print(e)\n",
    "\n",
    "print(my_character.get_type())\n",
    "\n",
    "my_character.set_type(\"법사\")\n",
    "print(my_character.get_type())\n",
    "\n",
    "try:\n",
    "    my_character.set_type(\"흑마법사\")\n",
    "except ValueError as e:\n",
    "    print(e)"
   ]
  },
  {
   "cell_type": "code",
   "execution_count": null,
   "metadata": {},
   "outputs": [],
   "source": []
  }
 ],
 "metadata": {
  "kernelspec": {
   "display_name": "pystudy_env",
   "language": "python",
   "name": "python3"
  },
  "language_info": {
   "codemirror_mode": {
    "name": "ipython",
    "version": 3
   },
   "file_extension": ".py",
   "mimetype": "text/x-python",
   "name": "python",
   "nbconvert_exporter": "python",
   "pygments_lexer": "ipython3",
   "version": "3.12.9"
  }
 },
 "nbformat": 4,
 "nbformat_minor": 2
}
