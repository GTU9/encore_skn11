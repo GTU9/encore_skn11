{
 "cells": [
  {
   "cell_type": "markdown",
   "metadata": {},
   "source": [
    "### 병합 및 분할"
   ]
  },
  {
   "cell_type": "code",
   "execution_count": 2,
   "metadata": {},
   "outputs": [],
   "source": [
    "import numpy as np"
   ]
  },
  {
   "cell_type": "markdown",
   "metadata": {},
   "source": [
    "##### ndarray 요소 추가 및 삭제"
   ]
  },
  {
   "cell_type": "code",
   "execution_count": null,
   "metadata": {},
   "outputs": [],
   "source": [
    "- ndarray"
   ]
  },
  {
   "cell_type": "code",
   "execution_count": 5,
   "metadata": {},
   "outputs": [
    {
     "name": "stdout",
     "output_type": "stream",
     "text": [
      "[10 20 30]\n",
      "False [10 15 20 30]\n"
     ]
    }
   ],
   "source": [
    "# np.insert() : 요소의 추가한 새로운 배열을 반환\n",
    "\n",
    "arr=np.array([10,20,30])\n",
    "\n",
    "arr1=np.append(arr,40)\n",
    "arr2=np.insert(arr,1,15) # 원본 배열, 삽입할 위치 인덱스, 삽입할 요소\n",
    "\n",
    "print(arr)\n",
    "# print(arr1)\n",
    "print(arr2 is arr, arr2)"
   ]
  },
  {
   "cell_type": "code",
   "execution_count": 10,
   "metadata": {},
   "outputs": [
    {
     "data": {
      "text/plain": [
       "array([[  1,   2,   3,   4],\n",
       "       [100, 200, 300, 400],\n",
       "       [  5,   6,   7,   8],\n",
       "       [  9,  10,  11,  12]])"
      ]
     },
     "execution_count": 10,
     "metadata": {},
     "output_type": "execute_result"
    }
   ],
   "source": [
    "# 2차원 배열에서 insert()\n",
    "arr = np.arange(1,13).reshape(3,4)\n",
    "\n",
    "# print(np.insert(arr,1,10))\n",
    "\n",
    "np.insert(arr,1,[100,200,300,400], axis=0)\n",
    "# 원본배열, 삽입할 위치 인데스, 삽입할 요소, axis=0 : 행기준\n",
    "# ([[  1,   2,   3,   4],[  5,   6,   7,   8], [  9,  10,  11,  12]])"
   ]
  }
 ],
 "metadata": {
  "kernelspec": {
   "display_name": "pystudy_env",
   "language": "python",
   "name": "python3"
  },
  "language_info": {
   "codemirror_mode": {
    "name": "ipython",
    "version": 3
   },
   "file_extension": ".py",
   "mimetype": "text/x-python",
   "name": "python",
   "nbconvert_exporter": "python",
   "pygments_lexer": "ipython3",
   "version": "3.12.9"
  }
 },
 "nbformat": 4,
 "nbformat_minor": 2
}
