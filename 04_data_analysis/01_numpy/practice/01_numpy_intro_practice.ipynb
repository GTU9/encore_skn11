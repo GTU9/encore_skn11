{
 "cells": [
  {
   "cell_type": "markdown",
   "metadata": {},
   "source": [
    "NumPy를 사용하여 다음과 같은 배열을 생성해 보세요.\n",
    "\n",
    "1. 크기가 4x3인 모든 값이 0인 배열\n",
    "2. 크기가 3x3인 모든 값이 1인 배열\n",
    "3. 0에서 20까지 5씩 증가하는 값으로 구성된 배열\n",
    "4. 0과 1 사이의 4개의 등간격 값을 가진 배열\n",
    "5. *크기가 2x2인 정규 분포로 구성된 배열*"
   ]
  },
  {
   "cell_type": "code",
   "execution_count": null,
   "metadata": {},
   "outputs": [
    {
     "name": "stdout",
     "output_type": "stream",
     "text": [
      "[[0. 0. 0.]\n",
      " [0. 0. 0.]\n",
      " [0. 0. 0.]\n",
      " [0. 0. 0.]]\n"
     ]
    }
   ],
   "source": [
    "# 1\n",
    "\n",
    "import numpy as np\n",
    "arr1=np.zeros((4,3))\n",
    "print(arr1)"
   ]
  },
  {
   "cell_type": "code",
   "execution_count": null,
   "metadata": {},
   "outputs": [
    {
     "name": "stdout",
     "output_type": "stream",
     "text": [
      "[[1. 1. 1.]\n",
      " [1. 1. 1.]\n",
      " [1. 1. 1.]]\n"
     ]
    }
   ],
   "source": [
    "# 2\n",
    "\n",
    "arr2=np.ones((3,3))\n",
    "print(arr2)"
   ]
  },
  {
   "cell_type": "code",
   "execution_count": null,
   "metadata": {},
   "outputs": [
    {
     "name": "stdout",
     "output_type": "stream",
     "text": [
      "[ 0  5 10 15]\n"
     ]
    }
   ],
   "source": [
    "# 3\n",
    "\n",
    "arr3=np.arange(0,20,5)\n",
    "print(arr3)"
   ]
  },
  {
   "cell_type": "code",
   "execution_count": null,
   "metadata": {},
   "outputs": [
    {
     "name": "stdout",
     "output_type": "stream",
     "text": [
      "[0.         1.33333333 2.66666667 4.        ]\n"
     ]
    }
   ],
   "source": [
    "# 4\n",
    "\n",
    "arr4=np.linspace(0,1,4)\n",
    "print(arr4)"
   ]
  },
  {
   "cell_type": "code",
   "execution_count": 669,
   "metadata": {},
   "outputs": [
    {
     "name": "stdout",
     "output_type": "stream",
     "text": [
      "[[-0.42313373 -1.10352261]\n",
      " [ 1.02968921  0.62132717]]\n",
      "-------------------------------\n",
      "[[-0.29580273  1.46190412]\n",
      " [-1.34659007 -0.33354708]]\n"
     ]
    }
   ],
   "source": [
    "# 5 크기가 2x2인 정규 분포로 구성된 배열\n",
    "\n",
    "arr5=np.random.randn(2,2)\n",
    "print(arr5)\n",
    "\n",
    "print('-------------------------------')\n",
    "\n",
    "arr6=np.random.normal(loc=0,scale=1,size=(2,2))\n",
    "print(arr6)"
   ]
  }
 ],
 "metadata": {
  "kernelspec": {
   "display_name": "pystudy_env",
   "language": "python",
   "name": "python3"
  },
  "language_info": {
   "codemirror_mode": {
    "name": "ipython",
    "version": 3
   },
   "file_extension": ".py",
   "mimetype": "text/x-python",
   "name": "python",
   "nbconvert_exporter": "python",
   "pygments_lexer": "ipython3",
   "version": "3.12.9"
  }
 },
 "nbformat": 4,
 "nbformat_minor": 2
}
