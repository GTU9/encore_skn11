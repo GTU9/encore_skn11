{
 "cells": [
  {
   "cell_type": "markdown",
   "metadata": {},
   "source": [
    "# 과적합 해결"
   ]
  },
  {
   "cell_type": "code",
   "execution_count": 98,
   "metadata": {},
   "outputs": [],
   "source": [
    "import torch\n",
    "import torch.nn as nn\n",
    "import torch.optim as optim\n",
    "from torch.utils.data import DataLoader,random_split\n",
    "import torchvision.transforms as transforms\n",
    "import torchvision.datasets as datasets"
   ]
  },
  {
   "cell_type": "markdown",
   "metadata": {},
   "source": [
    "### 배치 정규화 적용"
   ]
  },
  {
   "cell_type": "code",
   "execution_count": 99,
   "metadata": {},
   "outputs": [],
   "source": [
    "# 데이터셋 로드\n",
    "transfrom=transforms.Compose([transforms.ToTensor(),transforms.Normalize((0.5),(0.5,))])\n",
    "dataset=datasets.MNIST(root='./data',train=True,transform=transfrom,download=True)"
   ]
  },
  {
   "cell_type": "code",
   "execution_count": 100,
   "metadata": {},
   "outputs": [],
   "source": [
    "# 데이터 분할\n",
    "train_size=int(0.8 * len(dataset))\n",
    "val_size=len(dataset)-train_size\n",
    "\n",
    "train_data,val_data = random_split(dataset, [train_size,val_size])\n",
    "train_loader=DataLoader(train_data,batch_size=64,shuffle=True)\n",
    "val_loader=DataLoader(val_data,batch_size=64,shuffle=False)"
   ]
  },
  {
   "cell_type": "code",
   "execution_count": 101,
   "metadata": {},
   "outputs": [],
   "source": [
    "class SimpleNN(nn.Module):\n",
    "    def __init__(self,use_bn=False):\n",
    "        super(SimpleNN,self).__init__()\n",
    "        self.fc1=nn.Linear(28*28,128)\n",
    "        self.bn1=nn.BatchNorm1d(128) if use_bn else nn.Identity()\n",
    "        self.fc2=nn.Linear(128,64)\n",
    "        self.bn2=nn.BatchNorm1d(64) if use_bn else nn.Identity()\n",
    "        self.fc3=nn.Linear(64,10)\n",
    "\n",
    "    def forward(self,x):\n",
    "        x=x.view(x.size(0),-1)  # (배치크기, h, w) -> (배치크기, 특성)\n",
    "        x=torch.relu(self.bn1(self.fc1(x)))\n",
    "        x=torch.relu(self.bn2(self.fc2(x)))\n",
    "        x=self.fc3(x)\n",
    "        return x"
   ]
  },
  {
   "cell_type": "code",
   "execution_count": 102,
   "metadata": {},
   "outputs": [],
   "source": [
    "def train(model,train_loader,val_loader,epochs=5):\n",
    "    criterion=nn.CrossEntropyLoss()\n",
    "    optimizer=optim.Adam(model.parameters(),lr=0.001)\n",
    "\n",
    "    for epoch in range(epochs):\n",
    "        model.train()\n",
    "        for images, labels in train_loader:\n",
    "            images=images.view(images.size(0),-1)\n",
    "            optimizer.zero_grad()\n",
    "            outputs=model(images)\n",
    "            loss=criterion(outputs,labels)\n",
    "            loss.backward()\n",
    "            optimizer.step()\n",
    "        \n",
    "        model.eval()\n",
    "        val_loss=0\n",
    "        correct=0\n",
    "        with torch.no_grad():\n",
    "            for images, labels in val_loader:\n",
    "                images=images.view(images.size(0),-1)\n",
    "                outputs=model(images)\n",
    "                val_loss+=criterion(outputs,labels).item()\n",
    "                preds=outputs.argmax(dim=1)\n",
    "                correct+=(preds==labels).sum().item()\n",
    "        print(f'Epoch {epoch+1} | Val Loss: {val_loss/len(val_loader):.4f}, Accuracy: {correct/len(val_data):.4f}')"
   ]
  },
  {
   "cell_type": "code",
   "execution_count": 137,
   "metadata": {},
   "outputs": [
    {
     "name": "stdout",
     "output_type": "stream",
     "text": [
      "배치 정규화 적용 안함\n",
      "Epoch 1 | Val Loss: 0.2674, Accuracy: 0.9216\n",
      "Epoch 2 | Val Loss: 0.1798, Accuracy: 0.9475\n",
      "Epoch 3 | Val Loss: 0.1393, Accuracy: 0.9587\n",
      "Epoch 4 | Val Loss: 0.1324, Accuracy: 0.9628\n",
      "Epoch 5 | Val Loss: 0.1395, Accuracy: 0.9596\n",
      "\n",
      "배치 정규화 적용\n",
      "Epoch 1 | Val Loss: 0.1333, Accuracy: 0.9614\n",
      "Epoch 2 | Val Loss: 0.1036, Accuracy: 0.9682\n",
      "Epoch 3 | Val Loss: 0.0958, Accuracy: 0.9700\n",
      "Epoch 4 | Val Loss: 0.0829, Accuracy: 0.9746\n",
      "Epoch 5 | Val Loss: 0.0891, Accuracy: 0.9729\n"
     ]
    }
   ],
   "source": [
    "print('배치 정규화 적용 안함')\n",
    "model_without_bn=SimpleNN(use_bn=False)\n",
    "train(model_without_bn,train_loader,val_loader)\n",
    "\n",
    "print('\\n배치 정규화 적용')\n",
    "model_without_bn=SimpleNN(use_bn=True)\n",
    "train(model_without_bn,train_loader,val_loader)"
   ]
  },
  {
   "cell_type": "code",
   "execution_count": null,
   "metadata": {},
   "outputs": [
    {
     "name": "stdout",
     "output_type": "stream",
     "text": [
      "batch size : 16\n",
      "Epoch 1 | Val Loss: 0.1267, Accuracy: 0.9625\n",
      "Epoch 2 | Val Loss: 0.1163, Accuracy: 0.9630\n",
      "Epoch 3 | Val Loss: 0.0862, Accuracy: 0.9739\n",
      "Epoch 4 | Val Loss: 0.0879, Accuracy: 0.9729\n",
      "Epoch 5 | Val Loss: 0.0803, Accuracy: 0.9758\n",
      "batch size : 32\n",
      "Epoch 1 | Val Loss: 0.1222, Accuracy: 0.9608\n",
      "Epoch 2 | Val Loss: 0.0996, Accuracy: 0.9679\n",
      "Epoch 3 | Val Loss: 0.0843, Accuracy: 0.9732\n",
      "Epoch 4 | Val Loss: 0.0762, Accuracy: 0.9768\n",
      "Epoch 5 | Val Loss: 0.0782, Accuracy: 0.9752\n",
      "batch size : 128\n",
      "Epoch 1 | Val Loss: 0.1513, Accuracy: 0.9579\n",
      "Epoch 2 | Val Loss: 0.1161, Accuracy: 0.9652\n",
      "Epoch 3 | Val Loss: 0.0925, Accuracy: 0.9714\n",
      "Epoch 4 | Val Loss: 0.0835, Accuracy: 0.9737\n",
      "Epoch 5 | Val Loss: 0.0959, Accuracy: 0.9701\n"
     ]
    }
   ],
   "source": [
    "for batch_size in [16,32,128]:\n",
    "    print(f'batch size : {batch_size}')\n",
    "    train_loader=DataLoader(train_data,batch_size=batch_size,shuffle=True)\n",
    "    val_loader=DataLoader(val_data,batch_size=batch_size,shuffle=False)\n",
    "    model=SimpleNN(use_bn=True)\n",
    "    train(model,train_loader,val_loader)"
   ]
  },
  {
   "cell_type": "markdown",
   "metadata": {},
   "source": [
    "# 드롭아웃 적용"
   ]
  },
  {
   "cell_type": "code",
   "execution_count": null,
   "metadata": {},
   "outputs": [],
   "source": [
    "class DropoutNN(nn.Module):\n",
    "    def __init__(self,dropout_rate):\n",
    "        super(DropoutNN,self).__init__()\n",
    "        self.fc1=nn.Linear(28*28,128)\n",
    "        self.dropout1=nn.Dropout(dropout_rate)\n",
    "        self.fc2=nn.Linear(128,64)\n",
    "        self.dropout2=nn.Dropout(dropout_rate)\n",
    "        self.fc3=nn.Linear(64,10)\n",
    "\n",
    "    def forward(self,x):\n",
    "        x=x.view(x.size(0),-1)  # (배치크기, h, w) -> (배치크기, 특성)\n",
    "        x=torch.relu(self.dropout1(self.fc1(x)))\n",
    "        x=torch.relu(self.dropout2(self.fc2(x)))\n",
    "        x=self.fc3(x)\n",
    "        return x\n",
    "        "
   ]
  },
  {
   "cell_type": "code",
   "execution_count": null,
   "metadata": {},
   "outputs": [
    {
     "name": "stdout",
     "output_type": "stream",
     "text": [
      "Drop Rate: 0.2\n",
      "Epoch 1 | Val Loss: 0.2736, Accuracy: 0.9155\n",
      "Epoch 2 | Val Loss: 0.2193, Accuracy: 0.9332\n",
      "Epoch 3 | Val Loss: 0.1648, Accuracy: 0.9480\n",
      "Epoch 4 | Val Loss: 0.1409, Accuracy: 0.9567\n",
      "Epoch 5 | Val Loss: 0.1515, Accuracy: 0.9523\n",
      "Drop Rate: 0.5\n",
      "Epoch 1 | Val Loss: 0.3481, Accuracy: 0.8963\n",
      "Epoch 2 | Val Loss: 0.2897, Accuracy: 0.9127\n",
      "Epoch 3 | Val Loss: 0.2692, Accuracy: 0.9173\n",
      "Epoch 4 | Val Loss: 0.2408, Accuracy: 0.9268\n",
      "Epoch 5 | Val Loss: 0.2190, Accuracy: 0.9333\n",
      "Drop Rate: 0.8\n",
      "Epoch 1 | Val Loss: 1.6769, Accuracy: 0.5326\n",
      "Epoch 2 | Val Loss: 1.6358, Accuracy: 0.5630\n",
      "Epoch 3 | Val Loss: 1.6587, Accuracy: 0.4962\n",
      "Epoch 4 | Val Loss: 1.6149, Accuracy: 0.5657\n",
      "Epoch 5 | Val Loss: 1.6011, Accuracy: 0.5348\n"
     ]
    }
   ],
   "source": [
    "train_loader=DataLoader(train_data,batch_size=64,shuffle=True)\n",
    "val_loader=DataLoader(val_data,batch_size=64,shuffle=False)\n",
    "\n",
    "for rate in [0.2,0.5,0.8]:\n",
    "    print(f'Drop Rate: {rate}')\n",
    "    model=DropoutNN(dropout_rate=rate)\n",
    "    train(model,train_loader,val_loader)"
   ]
  },
  {
   "cell_type": "markdown",
   "metadata": {},
   "source": [
    "- 훈련시 드롭아웃 활성화, 테스트 시 비활성화"
   ]
  },
  {
   "cell_type": "code",
   "execution_count": null,
   "metadata": {},
   "outputs": [],
   "source": [
    "def train_do(model,train_loader,val_loader,epochs=5):\n",
    "    criterion=nn.CrossEntropyLoss()\n",
    "    optimizer=optim.Adam(model.parameters(),lr=0.001)\n",
    "\n",
    "    for epoch in range(epochs):\n",
    "        for images, labels in train_loader:\n",
    "            images=images.view(images.size(0),-1)\n",
    "            optimizer.zero_grad()\n",
    "            outputs=model(images)\n",
    "            loss=criterion(outputs,labels)\n",
    "            loss.backward()\n",
    "            optimizer.step()\n",
    "        \n",
    "        val_loss=0\n",
    "        correct=0\n",
    "        with torch.no_grad():\n",
    "            for images, labels in val_loader:\n",
    "                images=images.view(images.size(0),-1)\n",
    "                outputs=model(images)\n",
    "                val_loss+=criterion(outputs,labels).item()\n",
    "                preds=outputs.argmax(dim=1)\n",
    "                correct+=(preds==labels).sum().item()\n",
    "        print(f'Epoch {epoch+1} | Val Loss: {val_loss/len(val_loader):.4f}, Accuracy: {correct/len(val_data):.4f}')"
   ]
  },
  {
   "cell_type": "code",
   "execution_count": null,
   "metadata": {},
   "outputs": [
    {
     "name": "stdout",
     "output_type": "stream",
     "text": [
      "Epoch 1 | Val Loss: 0.3852, Accuracy: 0.8872\n",
      "Epoch 2 | Val Loss: 0.3243, Accuracy: 0.9068\n",
      "Epoch 3 | Val Loss: 0.3169, Accuracy: 0.9047\n",
      "Epoch 4 | Val Loss: 0.2746, Accuracy: 0.9190\n",
      "Epoch 5 | Val Loss: 0.2799, Accuracy: 0.9187\n",
      "\n",
      "Epoch 1 | Val Loss: 0.1301, Accuracy: 0.9621\n",
      "Epoch 2 | Val Loss: 0.1377, Accuracy: 0.9569\n",
      "Epoch 3 | Val Loss: 0.1183, Accuracy: 0.9653\n",
      "Epoch 4 | Val Loss: 0.1065, Accuracy: 0.9690\n",
      "Epoch 5 | Val Loss: 0.1053, Accuracy: 0.9696\n"
     ]
    }
   ],
   "source": [
    "model= DropoutNN(dropout_rate=0.3)\n",
    "\n",
    "# train 모드 == 드롭아웃 활성화\n",
    "model.train()\n",
    "train_do(model,train_loader,val_loader)\n",
    "\n",
    "print()\n",
    "\n",
    "# eval 모드 == 드롭아웃 활성화\n",
    "model.eval()\n",
    "train_do(model,train_loader,val_loader)"
   ]
  },
  {
   "cell_type": "markdown",
   "metadata": {},
   "source": [
    "# Learning Rate Schduler 적용"
   ]
  },
  {
   "cell_type": "code",
   "execution_count": null,
   "metadata": {},
   "outputs": [],
   "source": [
    "class RealSimpleNN(nn.Module):\n",
    "    def __init__(self):\n",
    "        super(RealSimpleNN,self).__init__()\n",
    "        self.fc1=nn.Linear(28*28,128)\n",
    "        self.fc2=nn.Linear(128,64)\n",
    "        self.fc3=nn.Linear(64,10)\n",
    "\n",
    "    def forward(self,x):\n",
    "        x=x.view(x.size(0),-1)\n",
    "        x=torch.relu(self.fc1(x))\n",
    "        x=torch.relu(self.fc2(x))\n",
    "        x=self.fc3(x)\n",
    "        return x"
   ]
  },
  {
   "cell_type": "code",
   "execution_count": null,
   "metadata": {},
   "outputs": [],
   "source": [
    "def train_lr(model,train_loader,val_loader,optimizer,scheduler,epochs=10):\n",
    "    criterion=nn.CrossEntropyLoss()\n",
    "\n",
    "    for epoch in range(epochs):\n",
    "        model.train()\n",
    "        for images, labels in train_loader:\n",
    "            images=images.view(images.size(0),-1)\n",
    "            optimizer.zero_grad()\n",
    "            outputs=model(images)\n",
    "            loss=criterion(outputs,labels)\n",
    "            loss.backward()\n",
    "            optimizer.step()\n",
    "\n",
    "        model.eval()\n",
    "        val_loss=0\n",
    "        correct=0\n",
    "        with torch.no_grad():\n",
    "            for images, labels in val_loader:\n",
    "                images=images.view(images.size(0),-1)\n",
    "                outputs=model(images)\n",
    "                val_loss+=criterion(outputs,labels).item()\n",
    "                preds=outputs.argmax(dim=1)\n",
    "                correct+=(preds==labels).sum().item()\n",
    "        \n",
    "        scheduler.step()\n",
    "        print(f'Epoch {epoch+1}| Val Loss: {val_loss/len(val_loader):.4f}, Accuracy: {correct/len(val_data):.4f}, LearningRate: {scheduler.get_last_lr()[0]}')"
   ]
  },
  {
   "cell_type": "code",
   "execution_count": null,
   "metadata": {},
   "outputs": [
    {
     "name": "stdout",
     "output_type": "stream",
     "text": [
      "Epoch 1| Val Loss: 0.2520, Accuracy: 0.9248, LearningRate: 0.01\n",
      "Epoch 2| Val Loss: 0.2819, Accuracy: 0.9186, LearningRate: 0.01\n",
      "Epoch 3| Val Loss: 0.2088, Accuracy: 0.9428, LearningRate: 0.001\n",
      "Epoch 4| Val Loss: 0.1500, Accuracy: 0.9561, LearningRate: 0.001\n",
      "Epoch 5| Val Loss: 0.1470, Accuracy: 0.9565, LearningRate: 0.001\n",
      "Epoch 6| Val Loss: 0.1392, Accuracy: 0.9590, LearningRate: 0.0001\n",
      "Epoch 7| Val Loss: 0.1344, Accuracy: 0.9594, LearningRate: 0.0001\n",
      "Epoch 8| Val Loss: 0.1333, Accuracy: 0.9607, LearningRate: 0.0001\n",
      "Epoch 9| Val Loss: 0.1335, Accuracy: 0.9613, LearningRate: 1e-05\n",
      "Epoch 10| Val Loss: 0.1331, Accuracy: 0.9613, LearningRate: 1e-05\n"
     ]
    }
   ],
   "source": [
    "model=RealSimpleNN()\n",
    "optimizer=optim.Adam(model.parameters(),lr=0.01)\n",
    "scheduler=optim.lr_scheduler.StepLR(optimizer,step_size=3,gamma=0.1)\n",
    "\n",
    "train_lr(model,train_loader,val_loader,optimizer,scheduler)"
   ]
  },
  {
   "cell_type": "markdown",
   "metadata": {},
   "source": [
    "### 조기 종료 적용"
   ]
  },
  {
   "cell_type": "code",
   "execution_count": 120,
   "metadata": {},
   "outputs": [],
   "source": [
    "def train_es(model, train_loader, val_loader, optimizer, epochs=50, early_stopping=None):\n",
    "    criterion=nn.CrossEntropyLoss()\n",
    "    train_losses=[]\n",
    "    val_losses=[]\n",
    "\n",
    "    for epoch in range(epochs):\n",
    "        model.train()\n",
    "        train_loss=0\n",
    "        for images, labels in train_loader:\n",
    "            images= images.view(images.size(0),-1)\n",
    "            optimizer.zero_grad()\n",
    "            outputs=model(images)\n",
    "            loss=criterion(outputs,labels)\n",
    "            loss.backward()\n",
    "            optimizer.step()\n",
    "            train_loss += loss.item()\n",
    "        train_loss/=len(train_loader)\n",
    "        train_losses.append(train_loss)\n",
    "\n",
    "        model.eval()\n",
    "        val_loss=0\n",
    "        correct=0\n",
    "        with torch.no_grad():\n",
    "            for images, labels in val_loader:\n",
    "                images=images.view(images.size(0),-1)\n",
    "                outputs =model(images)\n",
    "                loss=criterion(outputs, labels)\n",
    "                val_loss += loss.item()\n",
    "                preds= outputs.argmax(dim=1)\n",
    "                correct+=(preds==labels).sum().item()\n",
    "            \n",
    "        val_loss/=len(val_loader)\n",
    "        val_losses.append(val_loss)\n",
    "        accuracy=correct/len(val_data)\n",
    "\n",
    "        print(f'Epoch {epoch+1} | Loss: {val_loss:.4f}, Accuracy: {accuracy:.4f}')\n",
    "\n",
    "        if early_stopping and early_stopping(val_loss):\n",
    "            print(f'조기종료 epoch {epoch+1}')\n",
    "            break\n",
    "    return train_losses, val_losses"
   ]
  },
  {
   "cell_type": "code",
   "execution_count": 121,
   "metadata": {},
   "outputs": [],
   "source": [
    "class EarlyStopping:\n",
    "    def __init__(self,patience=5,min_delta=0.001):\n",
    "        self.patience = patience\n",
    "        self.min_delta=min_delta\n",
    "        self.best_loss=float('inf')\n",
    "        self.counter=0\n",
    "\n",
    "    def __call__(self,val_loss):\n",
    "        if val_loss < self.best_loss - self.min_delta:\n",
    "            self.best_loss=val_loss\n",
    "            self.count=0\n",
    "        else:\n",
    "            self.counter+=1\n",
    "\n",
    "        return self.counter>=self.patience"
   ]
  },
  {
   "cell_type": "code",
   "execution_count": 122,
   "metadata": {},
   "outputs": [
    {
     "name": "stdout",
     "output_type": "stream",
     "text": [
      "Epoch 1 | Loss: 0.3054, Accuracy: 0.9058\n",
      "Epoch 2 | Loss: 0.2366, Accuracy: 0.9304\n",
      "Epoch 3 | Loss: 0.2293, Accuracy: 0.9360\n",
      "Epoch 4 | Loss: 0.3083, Accuracy: 0.9208\n",
      "Epoch 5 | Loss: 0.2152, Accuracy: 0.9447\n",
      "Epoch 6 | Loss: 0.2825, Accuracy: 0.9283\n",
      "Epoch 7 | Loss: 0.2508, Accuracy: 0.9373\n",
      "Epoch 8 | Loss: 0.1890, Accuracy: 0.9539\n",
      "Epoch 9 | Loss: 0.2266, Accuracy: 0.9431\n",
      "Epoch 10 | Loss: 0.2365, Accuracy: 0.9445\n",
      "Epoch 11 | Loss: 0.2056, Accuracy: 0.9519\n",
      "Epoch 12 | Loss: 0.2110, Accuracy: 0.9489\n",
      "Epoch 13 | Loss: 0.1852, Accuracy: 0.9550\n",
      "Epoch 14 | Loss: 0.2168, Accuracy: 0.9486\n",
      "Epoch 15 | Loss: 0.1865, Accuracy: 0.9557\n",
      "Epoch 16 | Loss: 0.2076, Accuracy: 0.9497\n",
      "Epoch 17 | Loss: 0.2422, Accuracy: 0.9446\n",
      "Epoch 18 | Loss: 0.2803, Accuracy: 0.9425\n",
      "Epoch 19 | Loss: 0.2667, Accuracy: 0.9390\n",
      "Epoch 20 | Loss: 0.2876, Accuracy: 0.9426\n",
      "Epoch 21 | Loss: 0.2360, Accuracy: 0.9473\n",
      "Epoch 22 | Loss: 0.2389, Accuracy: 0.9513\n",
      "Epoch 23 | Loss: 0.2064, Accuracy: 0.9594\n",
      "Epoch 24 | Loss: 0.2189, Accuracy: 0.9547\n",
      "Epoch 25 | Loss: 0.2320, Accuracy: 0.9481\n",
      "Epoch 26 | Loss: 0.2074, Accuracy: 0.9573\n",
      "Epoch 27 | Loss: 0.2485, Accuracy: 0.9455\n",
      "Epoch 28 | Loss: 0.2447, Accuracy: 0.9543\n",
      "Epoch 29 | Loss: 0.2391, Accuracy: 0.9528\n",
      "Epoch 30 | Loss: 0.2678, Accuracy: 0.9482\n",
      "Epoch 31 | Loss: 0.2454, Accuracy: 0.9551\n",
      "Epoch 32 | Loss: 0.2443, Accuracy: 0.9538\n",
      "Epoch 33 | Loss: 0.2967, Accuracy: 0.9478\n",
      "Epoch 34 | Loss: 0.2275, Accuracy: 0.9540\n",
      "Epoch 35 | Loss: 0.2982, Accuracy: 0.9488\n",
      "Epoch 36 | Loss: 0.2349, Accuracy: 0.9573\n",
      "Epoch 37 | Loss: 0.2241, Accuracy: 0.9570\n",
      "Epoch 38 | Loss: 0.2577, Accuracy: 0.9533\n",
      "Epoch 39 | Loss: 0.2632, Accuracy: 0.9582\n",
      "Epoch 40 | Loss: 0.3416, Accuracy: 0.9424\n",
      "Epoch 41 | Loss: 0.2341, Accuracy: 0.9566\n",
      "Epoch 42 | Loss: 0.2938, Accuracy: 0.9507\n",
      "Epoch 43 | Loss: 0.3255, Accuracy: 0.9414\n",
      "Epoch 44 | Loss: 0.3402, Accuracy: 0.9423\n",
      "Epoch 45 | Loss: 0.2688, Accuracy: 0.9530\n",
      "Epoch 46 | Loss: 0.2665, Accuracy: 0.9582\n",
      "Epoch 47 | Loss: 0.3062, Accuracy: 0.9522\n",
      "Epoch 48 | Loss: 0.2607, Accuracy: 0.9555\n",
      "Epoch 49 | Loss: 0.2822, Accuracy: 0.9464\n",
      "Epoch 50 | Loss: 0.2632, Accuracy: 0.9563\n",
      "\n",
      "|Early Stopping|\n",
      "Epoch 1 | Loss: 0.2761, Accuracy: 0.9207\n",
      "Epoch 2 | Loss: 0.2630, Accuracy: 0.9264\n",
      "Epoch 3 | Loss: 0.3301, Accuracy: 0.9102\n",
      "Epoch 4 | Loss: 0.2070, Accuracy: 0.9412\n",
      "Epoch 5 | Loss: 0.2808, Accuracy: 0.9196\n",
      "Epoch 6 | Loss: 0.2098, Accuracy: 0.9483\n",
      "Epoch 7 | Loss: 0.2235, Accuracy: 0.9436\n",
      "Epoch 8 | Loss: 0.2230, Accuracy: 0.9421\n",
      "조기종료 epoch 8\n"
     ]
    }
   ],
   "source": [
    "model_no_es=RealSimpleNN()\n",
    "optim_no_es = optim.Adam(model_no_es.parameters(), lr=0.01)\n",
    "train_losses,val_losses=train_es(model_no_es,train_loader,val_loader,optim_no_es)\n",
    "\n",
    "print('\\n|Early Stopping|')\n",
    "model_es=RealSimpleNN()\n",
    "optim_es=optim.Adam(model_es.parameters(),lr=0.01)\n",
    "early_stopping=EarlyStopping(patience=5)\n",
    "train_es_losses,val_es_losses=train_es(model_es,train_loader,val_loader,optim_es,early_stopping=early_stopping)"
   ]
  },
  {
   "cell_type": "code",
   "execution_count": 123,
   "metadata": {},
   "outputs": [
    {
     "data": {
      "image/png": "[encoded data removed]",
      "text/plain": [
       "<Figure size 1000x400 with 1 Axes>"
      ]
     },
     "metadata": {},
     "output_type": "display_data"
    }
   ],
   "source": [
    "import matplotlib.pyplot as plt\n",
    "\n",
    "plt.figure(figsize=(10,4))\n",
    "plt.plot(train_losses,label='Tran Loss (All epoch)', linestyle='dashed')\n",
    "plt.plot(val_losses,label='Vaild Loss (All epoch)')\n",
    "plt.plot(train_es_losses,label='Tran Loss (Early Stopping)', linestyle='dashed')\n",
    "plt.plot(val_es_losses,label='Vaild Loss (Early Stopping)')\n",
    "\n",
    "plt.legend()\n",
    "plt.show()"
   ]
  },
  {
   "cell_type": "markdown",
   "metadata": {},
   "source": [
    "# L1, L2 적용"
   ]
  },
  {
   "cell_type": "code",
   "execution_count": null,
   "metadata": {},
   "outputs": [],
   "source": [
    "def train_reg(model, train_loader, val_loader, optimizer, epochs=50, early_stopping=None):\n",
    "    criterion=nn.CrossEntropyLoss()\n",
    "    train_losses=[]\n",
    "    val_losses=[]\n",
    "    weight_norms=[]\n",
    "\n",
    "    for epoch in range(epochs):\n",
    "        model.train()\n",
    "        train_loss=0\n",
    "        for images, labels in train_loader:\n",
    "            images= images.view(images.size(0),-1)\n",
    "            optimizer.zero_grad()\n",
    "            outputs=model(images)\n",
    "            loss=criterion(outputs,labels)\n",
    "            loss.backward()\n",
    "            optimizer.step()\n",
    "            train_loss += loss.item()\n",
    "        train_loss/=len(train_loader)\n",
    "        train_losses.append(train_loss)\n",
    "\n",
    "        model.eval()\n",
    "        val_loss=0\n",
    "        correct=0\n",
    "        with torch.no_grad():\n",
    "            for images, labels in val_loader:\n",
    "                images=images.view(images.size(0),-1)\n",
    "                outputs =model(images)\n",
    "                loss=criterion(outputs, labels)\n",
    "                val_loss += loss.item()\n",
    "                preds= outputs.argmax(dim=1)\n",
    "                correct+=(preds==labels).sum().item()\n",
    "\n",
    "        val_loss/=len(val_loader)\n",
    "        val_losses.append(val_loss)\n",
    "        accuracy=correct/len(val_data)\n",
    "\n",
    "        print(f'Epoch {epoch+1} | Loss: {val_loss:.4f}, Accuracy: {accuracy:.4f}')\n",
    "\n",
    "        weight_norm=sum(torch.norm(p).item() for p in model.parameters())\n",
    "        weight_norms.append(weight_norm)\n",
    "\n",
    "    return train_losses, val_losses, weight_norms"
   ]
  },
  {
   "cell_type": "code",
   "execution_count": null,
   "metadata": {},
   "outputs": [
    {
     "name": "stdout",
     "output_type": "stream",
     "text": [
      "Epoch 1 | Loss: 0.2647, Accuracy: 0.9194\n",
      "Epoch 2 | Loss: 0.1788, Accuracy: 0.9462\n",
      "Epoch 3 | Loss: 0.1459, Accuracy: 0.9557\n",
      "Epoch 4 | Loss: 0.1320, Accuracy: 0.9587\n",
      "Epoch 5 | Loss: 0.1289, Accuracy: 0.9621\n",
      "Epoch 6 | Loss: 0.1246, Accuracy: 0.9633\n",
      "Epoch 7 | Loss: 0.1408, Accuracy: 0.9587\n",
      "Epoch 8 | Loss: 0.1154, Accuracy: 0.9667\n",
      "Epoch 9 | Loss: 0.1092, Accuracy: 0.9694\n",
      "Epoch 10 | Loss: 0.0999, Accuracy: 0.9702\n",
      "Epoch 11 | Loss: 0.1027, Accuracy: 0.9696\n",
      "Epoch 12 | Loss: 0.1158, Accuracy: 0.9683\n",
      "Epoch 13 | Loss: 0.0995, Accuracy: 0.9728\n",
      "Epoch 14 | Loss: 0.1091, Accuracy: 0.9706\n",
      "Epoch 15 | Loss: 0.1069, Accuracy: 0.9732\n",
      "Epoch 16 | Loss: 0.0971, Accuracy: 0.9739\n",
      "Epoch 17 | Loss: 0.1225, Accuracy: 0.9701\n",
      "Epoch 18 | Loss: 0.1121, Accuracy: 0.9733\n",
      "Epoch 19 | Loss: 0.1185, Accuracy: 0.9695\n",
      "Epoch 20 | Loss: 0.1142, Accuracy: 0.9713\n",
      "Epoch 21 | Loss: 0.1014, Accuracy: 0.9748\n",
      "Epoch 22 | Loss: 0.1218, Accuracy: 0.9724\n",
      "Epoch 23 | Loss: 0.1187, Accuracy: 0.9743\n",
      "Epoch 24 | Loss: 0.1218, Accuracy: 0.9736\n",
      "Epoch 25 | Loss: 0.1117, Accuracy: 0.9736\n",
      "Epoch 26 | Loss: 0.1180, Accuracy: 0.9742\n",
      "Epoch 27 | Loss: 0.1174, Accuracy: 0.9747\n",
      "Epoch 28 | Loss: 0.1146, Accuracy: 0.9751\n",
      "Epoch 29 | Loss: 0.1056, Accuracy: 0.9784\n",
      "Epoch 30 | Loss: 0.1149, Accuracy: 0.9774\n",
      "Epoch 31 | Loss: 0.1167, Accuracy: 0.9758\n",
      "Epoch 32 | Loss: 0.1106, Accuracy: 0.9778\n",
      "Epoch 33 | Loss: 0.1282, Accuracy: 0.9752\n",
      "Epoch 34 | Loss: 0.1122, Accuracy: 0.9778\n",
      "Epoch 35 | Loss: 0.1135, Accuracy: 0.9772\n",
      "Epoch 36 | Loss: 0.1148, Accuracy: 0.9777\n",
      "Epoch 37 | Loss: 0.1141, Accuracy: 0.9777\n",
      "Epoch 38 | Loss: 0.1189, Accuracy: 0.9769\n",
      "Epoch 39 | Loss: 0.1152, Accuracy: 0.9778\n",
      "Epoch 40 | Loss: 0.1159, Accuracy: 0.9781\n",
      "Epoch 41 | Loss: 0.1162, Accuracy: 0.9775\n",
      "Epoch 42 | Loss: 0.1165, Accuracy: 0.9776\n",
      "Epoch 43 | Loss: 0.1181, Accuracy: 0.9776\n",
      "Epoch 44 | Loss: 0.1187, Accuracy: 0.9777\n",
      "Epoch 45 | Loss: 0.1190, Accuracy: 0.9774\n",
      "Epoch 46 | Loss: 0.1195, Accuracy: 0.9772\n",
      "Epoch 47 | Loss: 0.1202, Accuracy: 0.9776\n",
      "Epoch 48 | Loss: 0.1204, Accuracy: 0.9771\n",
      "Epoch 49 | Loss: 0.1211, Accuracy: 0.9773\n",
      "Epoch 50 | Loss: 0.1222, Accuracy: 0.9777\n",
      "Epoch 1 | Loss: 0.3285, Accuracy: 0.9076\n",
      "Epoch 2 | Loss: 0.2730, Accuracy: 0.9150\n",
      "Epoch 3 | Loss: 0.2289, Accuracy: 0.9367\n",
      "Epoch 4 | Loss: 0.2289, Accuracy: 0.9348\n",
      "Epoch 5 | Loss: 0.2374, Accuracy: 0.9275\n",
      "Epoch 6 | Loss: 0.2086, Accuracy: 0.9427\n",
      "Epoch 7 | Loss: 0.1969, Accuracy: 0.9452\n",
      "Epoch 8 | Loss: 0.2098, Accuracy: 0.9415\n",
      "Epoch 9 | Loss: 0.2208, Accuracy: 0.9333\n",
      "Epoch 10 | Loss: 0.2016, Accuracy: 0.9417\n",
      "Epoch 11 | Loss: 0.1902, Accuracy: 0.9459\n",
      "Epoch 12 | Loss: 0.2072, Accuracy: 0.9362\n",
      "Epoch 13 | Loss: 0.2285, Accuracy: 0.9380\n",
      "Epoch 14 | Loss: 0.1865, Accuracy: 0.9454\n",
      "Epoch 15 | Loss: 0.2270, Accuracy: 0.9389\n",
      "Epoch 16 | Loss: 0.1965, Accuracy: 0.9450\n",
      "Epoch 17 | Loss: 0.1794, Accuracy: 0.9503\n",
      "Epoch 18 | Loss: 0.1909, Accuracy: 0.9507\n",
      "Epoch 19 | Loss: 0.1866, Accuracy: 0.9485\n",
      "Epoch 20 | Loss: 0.1890, Accuracy: 0.9495\n",
      "Epoch 21 | Loss: 0.2063, Accuracy: 0.9408\n",
      "Epoch 22 | Loss: 0.1831, Accuracy: 0.9527\n",
      "Epoch 23 | Loss: 0.2013, Accuracy: 0.9438\n",
      "Epoch 24 | Loss: 0.1918, Accuracy: 0.9497\n",
      "Epoch 25 | Loss: 0.1798, Accuracy: 0.9522\n",
      "Epoch 26 | Loss: 0.1809, Accuracy: 0.9497\n",
      "Epoch 27 | Loss: 0.2021, Accuracy: 0.9449\n",
      "Epoch 28 | Loss: 0.1711, Accuracy: 0.9542\n",
      "Epoch 29 | Loss: 0.1850, Accuracy: 0.9484\n",
      "Epoch 30 | Loss: 0.1831, Accuracy: 0.9487\n",
      "Epoch 31 | Loss: 0.1846, Accuracy: 0.9511\n",
      "Epoch 32 | Loss: 0.2039, Accuracy: 0.9401\n",
      "Epoch 33 | Loss: 0.1832, Accuracy: 0.9497\n",
      "Epoch 34 | Loss: 0.1831, Accuracy: 0.9476\n",
      "Epoch 35 | Loss: 0.1851, Accuracy: 0.9521\n",
      "Epoch 36 | Loss: 0.1795, Accuracy: 0.9505\n"
     ]
    },
    {
     "ename": "KeyboardInterrupt",
     "evalue": "",
     "output_type": "error",
     "traceback": [
      "\u001b[1;31m---------------------------------------------------------------------------\u001b[0m",
      "\u001b[1;31mKeyboardInterrupt\u001b[0m                         Traceback (most recent call last)",
      "Cell \u001b[1;32mIn[136], line 7\u001b[0m\n\u001b[0;32m      5\u001b[0m model_reg \u001b[38;5;241m=\u001b[39m RealSimpleNN()\n\u001b[0;32m      6\u001b[0m optim_reg \u001b[38;5;241m=\u001b[39m optim\u001b[38;5;241m.\u001b[39mSGD(model_reg\u001b[38;5;241m.\u001b[39mparameters(), lr\u001b[38;5;241m=\u001b[39m\u001b[38;5;241m0.01\u001b[39m, weight_decay\u001b[38;5;241m=\u001b[39m\u001b[38;5;241m0.01\u001b[39m, momentum\u001b[38;5;241m=\u001b[39m\u001b[38;5;241m0.9\u001b[39m)\n\u001b[1;32m----> 7\u001b[0m train_reg_losses, val_reg_losses \u001b[38;5;241m=\u001b[39m \u001b[43mtrain_reg\u001b[49m\u001b[43m(\u001b[49m\u001b[43mmodel_reg\u001b[49m\u001b[43m,\u001b[49m\u001b[43m \u001b[49m\u001b[43mtrain_loader\u001b[49m\u001b[43m,\u001b[49m\u001b[43m \u001b[49m\u001b[43mval_loader\u001b[49m\u001b[43m,\u001b[49m\u001b[43m \u001b[49m\u001b[43moptim_reg\u001b[49m\u001b[43m)\u001b[49m\n",
      "Cell \u001b[1;32mIn[135], line 25\u001b[0m, in \u001b[0;36mtrain_reg\u001b[1;34m(model, train_loader, val_loader, optimizer, epochs, early_stopping)\u001b[0m\n\u001b[0;32m     23\u001b[0m correct\u001b[38;5;241m=\u001b[39m\u001b[38;5;241m0\u001b[39m\n\u001b[0;32m     24\u001b[0m \u001b[38;5;28;01mwith\u001b[39;00m torch\u001b[38;5;241m.\u001b[39mno_grad():\n\u001b[1;32m---> 25\u001b[0m \u001b[43m    \u001b[49m\u001b[38;5;28;43;01mfor\u001b[39;49;00m\u001b[43m \u001b[49m\u001b[43mimages\u001b[49m\u001b[43m,\u001b[49m\u001b[43m \u001b[49m\u001b[43mlabels\u001b[49m\u001b[43m \u001b[49m\u001b[38;5;129;43;01min\u001b[39;49;00m\u001b[43m \u001b[49m\u001b[43mval_loader\u001b[49m\u001b[43m:\u001b[49m\n\u001b[0;32m     26\u001b[0m \u001b[43m        \u001b[49m\u001b[43mimages\u001b[49m\u001b[38;5;241;43m=\u001b[39;49m\u001b[43mimages\u001b[49m\u001b[38;5;241;43m.\u001b[39;49m\u001b[43mview\u001b[49m\u001b[43m(\u001b[49m\u001b[43mimages\u001b[49m\u001b[38;5;241;43m.\u001b[39;49m\u001b[43msize\u001b[49m\u001b[43m(\u001b[49m\u001b[38;5;241;43m0\u001b[39;49m\u001b[43m)\u001b[49m\u001b[43m,\u001b[49m\u001b[38;5;241;43m-\u001b[39;49m\u001b[38;5;241;43m1\u001b[39;49m\u001b[43m)\u001b[49m\n\u001b[0;32m     27\u001b[0m \u001b[43m        \u001b[49m\u001b[43moutputs\u001b[49m\u001b[43m \u001b[49m\u001b[38;5;241;43m=\u001b[39;49m\u001b[43mmodel\u001b[49m\u001b[43m(\u001b[49m\u001b[43mimages\u001b[49m\u001b[43m)\u001b[49m\n",
      "File \u001b[1;32mc:\\Users\\Playdata\\anaconda3\\envs\\pystudy_env\\Lib\\site-packages\\torch\\utils\\data\\dataloader.py:708\u001b[0m, in \u001b[0;36m_BaseDataLoaderIter.__next__\u001b[1;34m(self)\u001b[0m\n\u001b[0;32m    705\u001b[0m \u001b[38;5;28;01mif\u001b[39;00m \u001b[38;5;28mself\u001b[39m\u001b[38;5;241m.\u001b[39m_sampler_iter \u001b[38;5;129;01mis\u001b[39;00m \u001b[38;5;28;01mNone\u001b[39;00m:\n\u001b[0;32m    706\u001b[0m     \u001b[38;5;66;03m# TODO(https://github.com/pytorch/pytorch/issues/76750)\u001b[39;00m\n\u001b[0;32m    707\u001b[0m     \u001b[38;5;28mself\u001b[39m\u001b[38;5;241m.\u001b[39m_reset()  \u001b[38;5;66;03m# type: ignore[call-arg]\u001b[39;00m\n\u001b[1;32m--> 708\u001b[0m data \u001b[38;5;241m=\u001b[39m \u001b[38;5;28;43mself\u001b[39;49m\u001b[38;5;241;43m.\u001b[39;49m\u001b[43m_next_data\u001b[49m\u001b[43m(\u001b[49m\u001b[43m)\u001b[49m\n\u001b[0;32m    709\u001b[0m \u001b[38;5;28mself\u001b[39m\u001b[38;5;241m.\u001b[39m_num_yielded \u001b[38;5;241m+\u001b[39m\u001b[38;5;241m=\u001b[39m \u001b[38;5;241m1\u001b[39m\n\u001b[0;32m    710\u001b[0m \u001b[38;5;28;01mif\u001b[39;00m (\n\u001b[0;32m    711\u001b[0m     \u001b[38;5;28mself\u001b[39m\u001b[38;5;241m.\u001b[39m_dataset_kind \u001b[38;5;241m==\u001b[39m _DatasetKind\u001b[38;5;241m.\u001b[39mIterable\n\u001b[0;32m    712\u001b[0m     \u001b[38;5;129;01mand\u001b[39;00m \u001b[38;5;28mself\u001b[39m\u001b[38;5;241m.\u001b[39m_IterableDataset_len_called \u001b[38;5;129;01mis\u001b[39;00m \u001b[38;5;129;01mnot\u001b[39;00m \u001b[38;5;28;01mNone\u001b[39;00m\n\u001b[0;32m    713\u001b[0m     \u001b[38;5;129;01mand\u001b[39;00m \u001b[38;5;28mself\u001b[39m\u001b[38;5;241m.\u001b[39m_num_yielded \u001b[38;5;241m>\u001b[39m \u001b[38;5;28mself\u001b[39m\u001b[38;5;241m.\u001b[39m_IterableDataset_len_called\n\u001b[0;32m    714\u001b[0m ):\n",
      "File \u001b[1;32mc:\\Users\\Playdata\\anaconda3\\envs\\pystudy_env\\Lib\\site-packages\\torch\\utils\\data\\dataloader.py:764\u001b[0m, in \u001b[0;36m_SingleProcessDataLoaderIter._next_data\u001b[1;34m(self)\u001b[0m\n\u001b[0;32m    762\u001b[0m \u001b[38;5;28;01mdef\u001b[39;00m\u001b[38;5;250m \u001b[39m\u001b[38;5;21m_next_data\u001b[39m(\u001b[38;5;28mself\u001b[39m):\n\u001b[0;32m    763\u001b[0m     index \u001b[38;5;241m=\u001b[39m \u001b[38;5;28mself\u001b[39m\u001b[38;5;241m.\u001b[39m_next_index()  \u001b[38;5;66;03m# may raise StopIteration\u001b[39;00m\n\u001b[1;32m--> 764\u001b[0m     data \u001b[38;5;241m=\u001b[39m \u001b[38;5;28;43mself\u001b[39;49m\u001b[38;5;241;43m.\u001b[39;49m\u001b[43m_dataset_fetcher\u001b[49m\u001b[38;5;241;43m.\u001b[39;49m\u001b[43mfetch\u001b[49m\u001b[43m(\u001b[49m\u001b[43mindex\u001b[49m\u001b[43m)\u001b[49m  \u001b[38;5;66;03m# may raise StopIteration\u001b[39;00m\n\u001b[0;32m    765\u001b[0m     \u001b[38;5;28;01mif\u001b[39;00m \u001b[38;5;28mself\u001b[39m\u001b[38;5;241m.\u001b[39m_pin_memory:\n\u001b[0;32m    766\u001b[0m         data \u001b[38;5;241m=\u001b[39m _utils\u001b[38;5;241m.\u001b[39mpin_memory\u001b[38;5;241m.\u001b[39mpin_memory(data, \u001b[38;5;28mself\u001b[39m\u001b[38;5;241m.\u001b[39m_pin_memory_device)\n",
      "File \u001b[1;32mc:\\Users\\Playdata\\anaconda3\\envs\\pystudy_env\\Lib\\site-packages\\torch\\utils\\data\\_utils\\fetch.py:55\u001b[0m, in \u001b[0;36m_MapDatasetFetcher.fetch\u001b[1;34m(self, possibly_batched_index)\u001b[0m\n\u001b[0;32m     53\u001b[0m \u001b[38;5;28;01melse\u001b[39;00m:\n\u001b[0;32m     54\u001b[0m     data \u001b[38;5;241m=\u001b[39m \u001b[38;5;28mself\u001b[39m\u001b[38;5;241m.\u001b[39mdataset[possibly_batched_index]\n\u001b[1;32m---> 55\u001b[0m \u001b[38;5;28;01mreturn\u001b[39;00m \u001b[38;5;28;43mself\u001b[39;49m\u001b[38;5;241;43m.\u001b[39;49m\u001b[43mcollate_fn\u001b[49m\u001b[43m(\u001b[49m\u001b[43mdata\u001b[49m\u001b[43m)\u001b[49m\n",
      "File \u001b[1;32mc:\\Users\\Playdata\\anaconda3\\envs\\pystudy_env\\Lib\\site-packages\\torch\\utils\\data\\_utils\\collate.py:398\u001b[0m, in \u001b[0;36mdefault_collate\u001b[1;34m(batch)\u001b[0m\n\u001b[0;32m    337\u001b[0m \u001b[38;5;28;01mdef\u001b[39;00m\u001b[38;5;250m \u001b[39m\u001b[38;5;21mdefault_collate\u001b[39m(batch):\n\u001b[0;32m    338\u001b[0m \u001b[38;5;250m    \u001b[39m\u001b[38;5;124mr\u001b[39m\u001b[38;5;124;03m\"\"\"\u001b[39;00m\n\u001b[0;32m    339\u001b[0m \u001b[38;5;124;03m    Take in a batch of data and put the elements within the batch into a tensor with an additional outer dimension - batch size.\u001b[39;00m\n\u001b[0;32m    340\u001b[0m \n\u001b[1;32m   (...)\u001b[0m\n\u001b[0;32m    396\u001b[0m \u001b[38;5;124;03m        >>> default_collate(batch)  # Handle `CustomType` automatically\u001b[39;00m\n\u001b[0;32m    397\u001b[0m \u001b[38;5;124;03m    \"\"\"\u001b[39;00m\n\u001b[1;32m--> 398\u001b[0m     \u001b[38;5;28;01mreturn\u001b[39;00m \u001b[43mcollate\u001b[49m\u001b[43m(\u001b[49m\u001b[43mbatch\u001b[49m\u001b[43m,\u001b[49m\u001b[43m \u001b[49m\u001b[43mcollate_fn_map\u001b[49m\u001b[38;5;241;43m=\u001b[39;49m\u001b[43mdefault_collate_fn_map\u001b[49m\u001b[43m)\u001b[49m\n",
      "File \u001b[1;32mc:\\Users\\Playdata\\anaconda3\\envs\\pystudy_env\\Lib\\site-packages\\torch\\utils\\data\\_utils\\collate.py:212\u001b[0m, in \u001b[0;36mcollate\u001b[1;34m(batch, collate_fn_map)\u001b[0m\n\u001b[0;32m    208\u001b[0m transposed \u001b[38;5;241m=\u001b[39m \u001b[38;5;28mlist\u001b[39m(\u001b[38;5;28mzip\u001b[39m(\u001b[38;5;241m*\u001b[39mbatch))  \u001b[38;5;66;03m# It may be accessed twice, so we use a list.\u001b[39;00m\n\u001b[0;32m    210\u001b[0m \u001b[38;5;28;01mif\u001b[39;00m \u001b[38;5;28misinstance\u001b[39m(elem, \u001b[38;5;28mtuple\u001b[39m):\n\u001b[0;32m    211\u001b[0m     \u001b[38;5;28;01mreturn\u001b[39;00m [\n\u001b[1;32m--> 212\u001b[0m         \u001b[43mcollate\u001b[49m\u001b[43m(\u001b[49m\u001b[43msamples\u001b[49m\u001b[43m,\u001b[49m\u001b[43m \u001b[49m\u001b[43mcollate_fn_map\u001b[49m\u001b[38;5;241;43m=\u001b[39;49m\u001b[43mcollate_fn_map\u001b[49m\u001b[43m)\u001b[49m\n\u001b[0;32m    213\u001b[0m         \u001b[38;5;28;01mfor\u001b[39;00m samples \u001b[38;5;129;01min\u001b[39;00m transposed\n\u001b[0;32m    214\u001b[0m     ]  \u001b[38;5;66;03m# Backwards compatibility.\u001b[39;00m\n\u001b[0;32m    215\u001b[0m \u001b[38;5;28;01melse\u001b[39;00m:\n\u001b[0;32m    216\u001b[0m     \u001b[38;5;28;01mtry\u001b[39;00m:\n",
      "File \u001b[1;32mc:\\Users\\Playdata\\anaconda3\\envs\\pystudy_env\\Lib\\site-packages\\torch\\utils\\data\\_utils\\collate.py:155\u001b[0m, in \u001b[0;36mcollate\u001b[1;34m(batch, collate_fn_map)\u001b[0m\n\u001b[0;32m    153\u001b[0m \u001b[38;5;28;01mif\u001b[39;00m collate_fn_map \u001b[38;5;129;01mis\u001b[39;00m \u001b[38;5;129;01mnot\u001b[39;00m \u001b[38;5;28;01mNone\u001b[39;00m:\n\u001b[0;32m    154\u001b[0m     \u001b[38;5;28;01mif\u001b[39;00m elem_type \u001b[38;5;129;01min\u001b[39;00m collate_fn_map:\n\u001b[1;32m--> 155\u001b[0m         \u001b[38;5;28;01mreturn\u001b[39;00m \u001b[43mcollate_fn_map\u001b[49m\u001b[43m[\u001b[49m\u001b[43melem_type\u001b[49m\u001b[43m]\u001b[49m\u001b[43m(\u001b[49m\u001b[43mbatch\u001b[49m\u001b[43m,\u001b[49m\u001b[43m \u001b[49m\u001b[43mcollate_fn_map\u001b[49m\u001b[38;5;241;43m=\u001b[39;49m\u001b[43mcollate_fn_map\u001b[49m\u001b[43m)\u001b[49m\n\u001b[0;32m    157\u001b[0m     \u001b[38;5;28;01mfor\u001b[39;00m collate_type \u001b[38;5;129;01min\u001b[39;00m collate_fn_map:\n\u001b[0;32m    158\u001b[0m         \u001b[38;5;28;01mif\u001b[39;00m \u001b[38;5;28misinstance\u001b[39m(elem, collate_type):\n",
      "File \u001b[1;32mc:\\Users\\Playdata\\anaconda3\\envs\\pystudy_env\\Lib\\site-packages\\torch\\utils\\data\\_utils\\collate.py:272\u001b[0m, in \u001b[0;36mcollate_tensor_fn\u001b[1;34m(batch, collate_fn_map)\u001b[0m\n\u001b[0;32m    270\u001b[0m     storage \u001b[38;5;241m=\u001b[39m elem\u001b[38;5;241m.\u001b[39m_typed_storage()\u001b[38;5;241m.\u001b[39m_new_shared(numel, device\u001b[38;5;241m=\u001b[39melem\u001b[38;5;241m.\u001b[39mdevice)\n\u001b[0;32m    271\u001b[0m     out \u001b[38;5;241m=\u001b[39m elem\u001b[38;5;241m.\u001b[39mnew(storage)\u001b[38;5;241m.\u001b[39mresize_(\u001b[38;5;28mlen\u001b[39m(batch), \u001b[38;5;241m*\u001b[39m\u001b[38;5;28mlist\u001b[39m(elem\u001b[38;5;241m.\u001b[39msize()))\n\u001b[1;32m--> 272\u001b[0m \u001b[38;5;28;01mreturn\u001b[39;00m \u001b[43mtorch\u001b[49m\u001b[38;5;241;43m.\u001b[39;49m\u001b[43mstack\u001b[49m\u001b[43m(\u001b[49m\u001b[43mbatch\u001b[49m\u001b[43m,\u001b[49m\u001b[43m \u001b[49m\u001b[38;5;241;43m0\u001b[39;49m\u001b[43m,\u001b[49m\u001b[43m \u001b[49m\u001b[43mout\u001b[49m\u001b[38;5;241;43m=\u001b[39;49m\u001b[43mout\u001b[49m\u001b[43m)\u001b[49m\n",
      "\u001b[1;31mKeyboardInterrupt\u001b[0m: "
     ]
    }
   ],
   "source": [
    "model_no_reg = RealSimpleNN()\n",
    "optim_no_reg = optim.SGD(model_no_reg.parameters(), lr=0.01, weight_decay=0.0, momentum=0.9)\n",
    "train_losses, val_losses,weight_norms = train_reg(model_no_reg, train_loader, val_loader, optim_no_reg)\n",
    "\n",
    "model_reg = RealSimpleNN()\n",
    "optim_reg = optim.SGD(model_reg.parameters(), lr=0.01, weight_decay=0.01, momentum=0.9)\n",
    "train_reg_losses, val_reg_losses,weight_norms_reg = train_reg(model_reg, train_loader, val_loader, optim_reg)"
   ]
  },
  {
   "cell_type": "code",
   "execution_count": null,
   "metadata": {},
   "outputs": [],
   "source": [
    "plt.fugure(figsize=(12,5))\n",
    "\n",
    "plt.subplot(1,2,1)\n",
    "plt.plot(train_losses,label='Train Loss (No Reg)',linestyle='dashed')\n",
    "plt.plot(val_losses,label='Vaild Loss (No Reg)')\n",
    "plt.plot(train_losses,label='Train Loss (L2 Reg)',linestyle='dashed')\n",
    "plt.plot(val_losses,label='Vaild Loss (L2 Reg)')\n",
    "plt.xlabel('Epoch')\n",
    "plt.ylabel('Loss')\n",
    "plt.legend()\n",
    "\n",
    "plt.subplot(1,2,2)\n",
    "plt.plot(weight_norms,labeld='Weight Norm (No Reg)')\n",
    "plt.plot(weight_norms_reg,labeld='Weight Norm (L2 Reg)')\n",
    "plt.xlabel('Epoch')\n",
    "plt.ylabel('Weight Norm')\n",
    "plt.legend()\n",
    "\n",
    "plt.show()"
   ]
  }
 ],
 "metadata": {
  "kernelspec": {
   "display_name": "pystudy_env",
   "language": "python",
   "name": "python3"
  },
  "language_info": {
   "codemirror_mode": {
    "name": "ipython",
    "version": 3
   },
   "file_extension": ".py",
   "mimetype": "text/x-python",
   "name": "python",
   "nbconvert_exporter": "python",
   "pygments_lexer": "ipython3",
   "version": "3.12.9"
  }
 },
 "nbformat": 4,
 "nbformat_minor": 2
}
