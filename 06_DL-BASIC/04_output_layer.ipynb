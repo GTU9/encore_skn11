{
 "cells": [
  {
   "cell_type": "markdown",
   "metadata": {},
   "source": [
    "# 출력층 설계 (Output layer)"
   ]
  },
  {
   "cell_type": "code",
   "execution_count": 36,
   "metadata": {},
   "outputs": [],
   "source": [
    "# !pip3 install torch torchvision torchaudio"
   ]
  },
  {
   "cell_type": "markdown",
   "metadata": {},
   "source": [
    "### 소프트맥스 오버플로우 방지"
   ]
  },
  {
   "cell_type": "code",
   "execution_count": 37,
   "metadata": {},
   "outputs": [
    {
     "name": "stdout",
     "output_type": "stream",
     "text": [
      "[nan nan nan]\n",
      "[0.09003057 0.24472847 0.66524096]\n"
     ]
    },
    {
     "name": "stderr",
     "output_type": "stream",
     "text": [
      "C:\\Users\\Playdata\\AppData\\Local\\Temp\\ipykernel_29844\\2327302486.py:4: RuntimeWarning: overflow encountered in exp\n",
      "  exp_x=np.exp(x)\n",
      "C:\\Users\\Playdata\\AppData\\Local\\Temp\\ipykernel_29844\\2327302486.py:5: RuntimeWarning: invalid value encountered in divide\n",
      "  return exp_x/np.sum(exp_x)\n"
     ]
    }
   ],
   "source": [
    "import numpy as np\n",
    "\n",
    "def softmax(x):\n",
    "    exp_x=np.exp(x)\n",
    "    return exp_x/np.sum(exp_x)\n",
    "\n",
    "def stable_softmax(x):\n",
    "    exp_x=np.exp(x-np.max(x))\n",
    "    return exp_x/np.sum(exp_x)\n",
    "\n",
    "x=np.array([1000,1001,1002])\n",
    "\n",
    "print(softmax(x))\n",
    "print(stable_softmax(x))"
   ]
  },
  {
   "cell_type": "markdown",
   "metadata": {},
   "source": [
    "- PyTorch 라이브러리 함수 사용"
   ]
  },
  {
   "cell_type": "code",
   "execution_count": 38,
   "metadata": {},
   "outputs": [
    {
     "name": "stdout",
     "output_type": "stream",
     "text": [
      "torch.float32\n",
      "tensor([0.0900, 0.2447, 0.6652])\n",
      "tensor([1., 1., 1.])\n"
     ]
    }
   ],
   "source": [
    "import torch\n",
    "import torch.nn.functional as F\n",
    "\n",
    "x=torch.tensor([1000,1001,1002],dtype=torch.float32)\n",
    "print(x.dtype)\n",
    "\n",
    "softmax_output=F.softmax(x,dim=0)   # dim: softmax를 적용할 축\n",
    "print(softmax_output)\n",
    "\n",
    "sigmoid_output=torch.sigmoid(x)\n",
    "print(sigmoid_output)"
   ]
  },
  {
   "cell_type": "markdown",
   "metadata": {},
   "source": [
    "### 손실 함수와 연계"
   ]
  },
  {
   "cell_type": "code",
   "execution_count": 51,
   "metadata": {},
   "outputs": [
    {
     "name": "stdout",
     "output_type": "stream",
     "text": [
      "1.1761906147003174\n",
      "1.1385897397994995\n",
      "1.1016788482666016\n",
      "1.0654842853546143\n",
      "1.0300308465957642\n",
      "0.9953428506851196\n",
      "0.9614428877830505\n",
      "0.9283523559570312\n",
      "0.8960913419723511\n",
      "0.8646776676177979\n"
     ]
    }
   ],
   "source": [
    "import torch\n",
    "import torch.nn as nn\n",
    "import torch.optim as optim\n",
    "\n",
    "# 간단한 다중 클래스 분류 모델 정의 (입력 값: 5개, 출력: 3 클래스)\n",
    "class SimpleMultiClassModel(nn.Module):\n",
    "    def __init__(self):\n",
    "        super(SimpleMultiClassModel,self).__init__()\n",
    "        self.fc=nn.Linear(5,3)\n",
    "\n",
    "    def forward(self,x):\n",
    "        return self.fc(x)\n",
    "    \n",
    "model = SimpleMultiClassModel()\n",
    "criterion=nn.CrossEntropyLoss()\n",
    "optimizer=optim.Adam(model.parameters(),lr=0.01)\n",
    "\n",
    "# 데이터 생성\n",
    "inputs= torch.randn(4,5)\n",
    "labels=torch.tensor([0,2,1,0])\n",
    "\n",
    "for _ in range(10):\n",
    "\n",
    "    preds=model(inputs)             #순전파\n",
    "    loss=criterion(preds,labels)    # 손실계산\n",
    "    print(loss.item())\n",
    "\n",
    "    optimizer.zero_grad()   # 이전 단계에서 계산된 기울기를 0으로 초기화\n",
    "    loss.backward()         # 손실에 대한 역전파 수행 (피라미터에 개한 기울기 산)\n",
    "    optimizer.step()        # 계산된 기울기를 사용하여 옵티마이저가 모델의 파라미터 업데이트"
   ]
  }
 ],
 "metadata": {
  "kernelspec": {
   "display_name": "pystudy_env",
   "language": "python",
   "name": "python3"
  },
  "language_info": {
   "codemirror_mode": {
    "name": "ipython",
    "version": 3
   },
   "file_extension": ".py",
   "mimetype": "text/x-python",
   "name": "python",
   "nbconvert_exporter": "python",
   "pygments_lexer": "ipython3",
   "version": "3.12.9"
  }
 },
 "nbformat": 4,
 "nbformat_minor": 2
}
