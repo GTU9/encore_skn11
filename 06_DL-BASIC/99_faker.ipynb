{
 "cells": [
  {
   "cell_type": "markdown",
   "metadata": {},
   "source": [
    "# Faker\n",
    "- 가상 데이터 생성"
   ]
  },
  {
   "cell_type": "code",
   "execution_count": null,
   "metadata": {},
   "outputs": [
    {
     "name": "stdout",
     "output_type": "stream",
     "text": [
      "Collecting Faker\n",
      "  Downloading faker-37.1.0-py3-none-any.whl.metadata (15 kB)\n",
      "Requirement already satisfied: tzdata in c:\\users\\playdata\\anaconda3\\envs\\pystudy_env\\lib\\site-packages (from Faker) (2025.1)\n",
      "Downloading faker-37.1.0-py3-none-any.whl (1.9 MB)\n",
      "   ---------------------------------------- 0.0/1.9 MB ? eta -:--:--\n",
      "   ---------------------------------------- 1.9/1.9 MB 35.2 MB/s eta 0:00:00\n",
      "Installing collected packages: Faker\n",
      "Successfully installed Faker-37.1.0\n"
     ]
    }
   ],
   "source": [
    "# !pip install Faker"
   ]
  },
  {
   "cell_type": "code",
   "execution_count": 5,
   "metadata": {},
   "outputs": [
    {
     "name": "stdout",
     "output_type": "stream",
     "text": [
      "Kayla Hubbard\n",
      "Sharon,Hansen\n",
      "michele07@example.org\n",
      "Hanson, Tate and Wright\n",
      "1941-11-30\n"
     ]
    }
   ],
   "source": [
    "from faker import Faker\n",
    "\n",
    "fake=Faker()\n",
    "\n",
    "print(fake.name())\n",
    "print(fake.first_name()+','+fake.last_name())\n",
    "print(fake.email())\n",
    "print(fake.company())\n",
    "print(fake.date_of_birth(minimum_age=19, maximum_age=90))"
   ]
  },
  {
   "cell_type": "code",
   "execution_count": 8,
   "metadata": {},
   "outputs": [],
   "source": [
    "import pandas as pd\n",
    "import random\n",
    "\n",
    "fake=Faker()\n",
    "\n",
    "def generate_customer_data(n=1000):\n",
    "    data=[]\n",
    "\n",
    "    for _ in range(n):\n",
    "        age=fake.random_int(min=19,max=60)\n",
    "        sub_month=fake.random_int(min=1,max=120)\n",
    "        monthly_payment= round(random.uniform(10,100),2)\n",
    "        usage_frequency=fake.random_int(min=1,max=30)\n",
    "        stft_score=fake.random_int(min=1,max=5)\n",
    "        churn=fake.boolean(chance_of_getting_true=30)\n",
    "\n",
    "        data.append([\n",
    "            age, sub_month,monthly_payment,usage_frequency,stft_score,churn\n",
    "        ])\n",
    "\n",
    "    columns=['AGE','SUB_MONTHS','MONTHLY_PAYMENT','USAGE_FREQ','STFT','CHURN']\n",
    "\n",
    "    return pd.DataFrame(data,columns=columns)\n"
   ]
  },
  {
   "cell_type": "code",
   "execution_count": 10,
   "metadata": {},
   "outputs": [
    {
     "data": {
      "text/html": [
       "<div>\n",
       "<style scoped>\n",
       "    .dataframe tbody tr th:only-of-type {\n",
       "        vertical-align: middle;\n",
       "    }\n",
       "\n",
       "    .dataframe tbody tr th {\n",
       "        vertical-align: top;\n",
       "    }\n",
       "\n",
       "    .dataframe thead th {\n",
       "        text-align: right;\n",
       "    }\n",
       "</style>\n",
       "<table border=\"1\" class=\"dataframe\">\n",
       "  <thead>\n",
       "    <tr style=\"text-align: right;\">\n",
       "      <th></th>\n",
       "      <th>AGE</th>\n",
       "      <th>SUB_MONTHS</th>\n",
       "      <th>MONTHLY_PAYMENT</th>\n",
       "      <th>USAGE_FREQ</th>\n",
       "      <th>STFT</th>\n",
       "      <th>CHURN</th>\n",
       "    </tr>\n",
       "  </thead>\n",
       "  <tbody>\n",
       "    <tr>\n",
       "      <th>0</th>\n",
       "      <td>25</td>\n",
       "      <td>69</td>\n",
       "      <td>23.23</td>\n",
       "      <td>12</td>\n",
       "      <td>1</td>\n",
       "      <td>False</td>\n",
       "    </tr>\n",
       "    <tr>\n",
       "      <th>1</th>\n",
       "      <td>31</td>\n",
       "      <td>82</td>\n",
       "      <td>65.53</td>\n",
       "      <td>19</td>\n",
       "      <td>1</td>\n",
       "      <td>True</td>\n",
       "    </tr>\n",
       "    <tr>\n",
       "      <th>2</th>\n",
       "      <td>42</td>\n",
       "      <td>67</td>\n",
       "      <td>89.86</td>\n",
       "      <td>26</td>\n",
       "      <td>2</td>\n",
       "      <td>False</td>\n",
       "    </tr>\n",
       "    <tr>\n",
       "      <th>3</th>\n",
       "      <td>32</td>\n",
       "      <td>46</td>\n",
       "      <td>78.77</td>\n",
       "      <td>19</td>\n",
       "      <td>4</td>\n",
       "      <td>False</td>\n",
       "    </tr>\n",
       "    <tr>\n",
       "      <th>4</th>\n",
       "      <td>30</td>\n",
       "      <td>41</td>\n",
       "      <td>31.57</td>\n",
       "      <td>27</td>\n",
       "      <td>1</td>\n",
       "      <td>False</td>\n",
       "    </tr>\n",
       "    <tr>\n",
       "      <th>...</th>\n",
       "      <td>...</td>\n",
       "      <td>...</td>\n",
       "      <td>...</td>\n",
       "      <td>...</td>\n",
       "      <td>...</td>\n",
       "      <td>...</td>\n",
       "    </tr>\n",
       "    <tr>\n",
       "      <th>199995</th>\n",
       "      <td>47</td>\n",
       "      <td>78</td>\n",
       "      <td>56.32</td>\n",
       "      <td>18</td>\n",
       "      <td>5</td>\n",
       "      <td>False</td>\n",
       "    </tr>\n",
       "    <tr>\n",
       "      <th>199996</th>\n",
       "      <td>33</td>\n",
       "      <td>103</td>\n",
       "      <td>68.13</td>\n",
       "      <td>9</td>\n",
       "      <td>3</td>\n",
       "      <td>False</td>\n",
       "    </tr>\n",
       "    <tr>\n",
       "      <th>199997</th>\n",
       "      <td>21</td>\n",
       "      <td>78</td>\n",
       "      <td>30.46</td>\n",
       "      <td>20</td>\n",
       "      <td>2</td>\n",
       "      <td>False</td>\n",
       "    </tr>\n",
       "    <tr>\n",
       "      <th>199998</th>\n",
       "      <td>43</td>\n",
       "      <td>110</td>\n",
       "      <td>25.49</td>\n",
       "      <td>24</td>\n",
       "      <td>4</td>\n",
       "      <td>True</td>\n",
       "    </tr>\n",
       "    <tr>\n",
       "      <th>199999</th>\n",
       "      <td>54</td>\n",
       "      <td>90</td>\n",
       "      <td>51.49</td>\n",
       "      <td>10</td>\n",
       "      <td>4</td>\n",
       "      <td>False</td>\n",
       "    </tr>\n",
       "  </tbody>\n",
       "</table>\n",
       "<p>200000 rows × 6 columns</p>\n",
       "</div>"
      ],
      "text/plain": [
       "        AGE  SUB_MONTHS  MONTHLY_PAYMENT  USAGE_FREQ  STFT  CHURN\n",
       "0        25          69            23.23          12     1  False\n",
       "1        31          82            65.53          19     1   True\n",
       "2        42          67            89.86          26     2  False\n",
       "3        32          46            78.77          19     4  False\n",
       "4        30          41            31.57          27     1  False\n",
       "...     ...         ...              ...         ...   ...    ...\n",
       "199995   47          78            56.32          18     5  False\n",
       "199996   33         103            68.13           9     3  False\n",
       "199997   21          78            30.46          20     2  False\n",
       "199998   43         110            25.49          24     4   True\n",
       "199999   54          90            51.49          10     4  False\n",
       "\n",
       "[200000 rows x 6 columns]"
      ]
     },
     "execution_count": 10,
     "metadata": {},
     "output_type": "execute_result"
    }
   ],
   "source": [
    "customer_df=generate_customer_data(200000)\n",
    "customer_df"
   ]
  },
  {
   "cell_type": "code",
   "execution_count": 11,
   "metadata": {},
   "outputs": [],
   "source": [
    "customer_df.to_csv('./data/customer_data.csv', index=False)"
   ]
  }
 ],
 "metadata": {
  "kernelspec": {
   "display_name": "pystudy_env",
   "language": "python",
   "name": "python3"
  },
  "language_info": {
   "codemirror_mode": {
    "name": "ipython",
    "version": 3
   },
   "file_extension": ".py",
   "mimetype": "text/x-python",
   "name": "python",
   "nbconvert_exporter": "python",
   "pygments_lexer": "ipython3",
   "version": "3.12.9"
  }
 },
 "nbformat": 4,
 "nbformat_minor": 2
}
