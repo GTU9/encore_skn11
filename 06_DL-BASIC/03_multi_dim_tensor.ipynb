{
 "cells": [
  {
   "cell_type": "markdown",
   "metadata": {},
   "source": [
    "# 다차원 텐서 (다차원 배열)"
   ]
  },
  {
   "cell_type": "code",
   "execution_count": 2,
   "metadata": {},
   "outputs": [],
   "source": [
    "import numpy as np"
   ]
  },
  {
   "cell_type": "markdown",
   "metadata": {
    "vscode": {
     "languageId": "plaintext"
    }
   },
   "source": [
    "### 다차원 배열의 계산 복습"
   ]
  },
  {
   "cell_type": "code",
   "execution_count": 8,
   "metadata": {},
   "outputs": [
    {
     "name": "stdout",
     "output_type": "stream",
     "text": [
      "[[ 8 10 12]\n",
      " [14 16 18]]\n",
      "[[2 4 6]\n",
      " [5 7 9]]\n",
      "[[ 50  68]\n",
      " [122 167]]\n"
     ]
    }
   ],
   "source": [
    "A = np.array([[1,2,3],\n",
    "             [4,5,6]])\n",
    "B = np.array([[7,8,9],\n",
    "             [10,11,12]])\n",
    "\n",
    "add_result=A+B\n",
    "\n",
    "vec=np.array([1,2,3])\n",
    "add_result2=A+vec   # 브로드캐스팅\n",
    "\n",
    "print(add_result)\n",
    "print(add_result2)\n",
    "\n",
    "dot_result=A.dot(B.T)\n",
    "print(dot_result)"
   ]
  },
  {
   "cell_type": "markdown",
   "metadata": {},
   "source": [
    "### 다차원 배열의 계산으로 순전파 구현"
   ]
  },
  {
   "cell_type": "code",
   "execution_count": 22,
   "metadata": {},
   "outputs": [
    {
     "name": "stdout",
     "output_type": "stream",
     "text": [
      "[[0.         0.         0.        ]\n",
      " [0.         0.39719914 0.        ]\n",
      " [0.         0.         3.13968179]\n",
      " [0.         0.         0.        ]]\n"
     ]
    }
   ],
   "source": [
    "# 입력 데이터\n",
    "X=np.random.randn(4,5)  # 4개의 샘플, 5차원 feature\n",
    "\n",
    "# 가중치\n",
    "W=np.random.randn(5,3)  # 5개의 입력 (feature), 3개의 뉴런으로 구성된 레이어\n",
    "\n",
    "# 편향\n",
    "b=np.random.randn(1,3)\n",
    "\n",
    "# 선형 계산 (W*X + b)\n",
    "z=np.dot(X,W)+b\n",
    "\n",
    "# ReLU 활성화 함수\n",
    "result=np.maximum(0,z)\n",
    "print(result)"
   ]
  },
  {
   "cell_type": "markdown",
   "metadata": {},
   "source": [
    "### 다층 퍼셉트론"
   ]
  },
  {
   "cell_type": "code",
   "execution_count": 32,
   "metadata": {},
   "outputs": [
    {
     "name": "stdout",
     "output_type": "stream",
     "text": [
      "[[2.77252206e-02 3.17801639e-03 9.64906089e-01 4.19067431e-03]\n",
      " [4.80597975e-01 5.10265886e-01 8.63139520e-03 5.04743638e-04]\n",
      " [1.12837878e-01 8.86560059e-01 1.43914360e-04 4.58149050e-04]\n",
      " [8.28681190e-04 9.78136862e-03 1.02659731e-03 9.88363353e-01]\n",
      " [3.73711651e-01 6.12964778e-01 1.48559153e-04 1.31750118e-02]\n",
      " [4.34489358e-02 5.98612985e-03 3.99070532e-03 9.46574229e-01]]\n"
     ]
    }
   ],
   "source": [
    "X=np.random.randn(6,10)\n",
    "\n",
    "# 은닉층 : 10개의 입력 -> 8개의 뉴런\n",
    "w1=np.random.randn(10,8)\n",
    "b1=np.random.randn(1,8)\n",
    "\n",
    "# 출력층 : 8개의 입력 -> 4개의 클래스\n",
    "w2=np.random.randn(8,4)\n",
    "b2=np.random.randn(1,4)\n",
    "\n",
    "# 은닉층 계산 (선형 계산 + tanh 활성화 함수)\n",
    "\n",
    "z1=np.dot(X,w1)+b1\n",
    "result1=np.tanh(z1)\n",
    "\n",
    "# 출력층 계산 (선형 계산 + softmax 활성화 함수)\n",
    "\n",
    "z2=np.dot(result1,w2)+b2\n",
    "exp_z=np.exp(z2-np.max(z2,axis=1,keepdims=True))\n",
    "result2=exp_z/np.sum(exp_z,axis=1,keepdims=True)\n",
    "\n",
    "print(result2)"
   ]
  },
  {
   "cell_type": "markdown",
   "metadata": {},
   "source": [
    "### 이미지 데이터 예시"
   ]
  },
  {
   "cell_type": "code",
   "execution_count": 71,
   "metadata": {},
   "outputs": [
    {
     "data": {
      "text/plain": [
       "(np.float64(-0.5), np.float64(31.5), np.float64(31.5), np.float64(-0.5))"
      ]
     },
     "execution_count": 71,
     "metadata": {},
     "output_type": "execute_result"
    },
    {
     "data": {
      "image/png": "[encoded data removed]",
      "text/plain": [
       "<Figure size 640x480 with 3 Axes>"
      ]
     },
     "metadata": {},
     "output_type": "display_data"
    }
   ],
   "source": [
    "import matplotlib.pyplot as plt\n",
    "\n",
    "# 이미지 생성\n",
    "batch_size=5\n",
    "channels=3\n",
    "height=32\n",
    "width=32\n",
    "\n",
    "images=np.random.rand(batch_size,channels,height,width)\n",
    "\n",
    "bright_images=np.clip(images+0.2,0,1)\n",
    "\n",
    "gray_images=np.mean(images,axis=1)\n",
    "\n",
    "# PyTorch 프레임워크에서는 이미지 데이터를 (채널,높의,너비) 순서로 저장\n",
    "# matplotlib.pyplot.imshow()는 (높이,너비,채널) 순서로 기대\n",
    "# 따라서 transpose()를 이용해 축의 순서를 재배열\n",
    "images_for_display=images[0].transpose(1,2,0)\n",
    "bright_images_display=bright_images[0].transpose(1,2,0)\n",
    "\n",
    "plt.subplot(1,3,1)\n",
    "plt.imshow(images_for_display)\n",
    "plt.axis('off')\n",
    "\n",
    "plt.subplot(1,3,2)\n",
    "plt.imshow(bright_images_display)\n",
    "plt.axis('off')\n",
    "\n",
    "plt.subplot(1,3,3)\n",
    "plt.imshow(gray_images[0],cmap='grey')\n",
    "plt.axis('off')"
   ]
  }
 ],
 "metadata": {
  "kernelspec": {
   "display_name": "pystudy_env",
   "language": "python",
   "name": "python3"
  },
  "language_info": {
   "codemirror_mode": {
    "name": "ipython",
    "version": 3
   },
   "file_extension": ".py",
   "mimetype": "text/x-python",
   "name": "python",
   "nbconvert_exporter": "python",
   "pygments_lexer": "ipython3",
   "version": "3.12.9"
  }
 },
 "nbformat": 4,
 "nbformat_minor": 2
}
