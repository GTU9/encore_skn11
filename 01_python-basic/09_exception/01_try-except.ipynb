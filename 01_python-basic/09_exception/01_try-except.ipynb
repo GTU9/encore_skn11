{
 "cells": [
  {
   "cell_type": "markdown",
   "metadata": {
    "vscode": {
     "languageId": "plaintext"
    }
   },
   "source": [
    "### 예외처리"
   ]
  },
  {
   "cell_type": "code",
   "execution_count": null,
   "metadata": {},
   "outputs": [],
   "source": [
    "class NotMyTeacher(Exception):\n",
    "    pass"
   ]
  },
  {
   "cell_type": "code",
   "execution_count": null,
   "metadata": {},
   "outputs": [
    {
     "ename": "NotMyTeacher",
     "evalue": "",
     "output_type": "error",
     "traceback": [
      "\u001b[1;31m---------------------------------------------------------------------------\u001b[0m",
      "\u001b[1;31mNotMyTeacher\u001b[0m                              Traceback (most recent call last)",
      "Cell \u001b[1;32mIn[3], line 6\u001b[0m\n\u001b[0;32m      4\u001b[0m     \u001b[38;5;28mprint\u001b[39m(\u001b[38;5;124m'\u001b[39m\u001b[38;5;124m훌륭합니다.\u001b[39m\u001b[38;5;124m'\u001b[39m)\n\u001b[0;32m      5\u001b[0m \u001b[38;5;28;01melse\u001b[39;00m:\n\u001b[1;32m----> 6\u001b[0m     \u001b[38;5;28;01mraise\u001b[39;00m NotMyTeacher()\n",
      "\u001b[1;31mNotMyTeacher\u001b[0m: "
     ]
    }
   ],
   "source": [
    "teacher_name=input('당신의 선생님 이름은 무엇입니까?')\n",
    "\n",
    "if teacher_name =='토끼':\n",
    "    print('훌륭합니다.')\n",
    "else:\n",
    "    raise NotMyTeacher('선생님의 이름도 모르다니...')"
   ]
  },
  {
   "cell_type": "code",
   "execution_count": null,
   "metadata": {},
   "outputs": [
    {
     "name": "stdout",
     "output_type": "stream",
     "text": [
      "훌륭합니다.\n"
     ]
    },
    {
     "ename": "NotMyTeacher",
     "evalue": "선생님의 이름도 모르다니...",
     "output_type": "error",
     "traceback": [
      "\u001b[1;31m---------------------------------------------------------------------------\u001b[0m",
      "\u001b[1;31mNotMyTeacher\u001b[0m                              Traceback (most recent call last)",
      "Cell \u001b[1;32mIn[5], line 8\u001b[0m\n\u001b[0;32m      5\u001b[0m         \u001b[38;5;28;01mraise\u001b[39;00m NotMyTeacher(\u001b[38;5;124m'\u001b[39m\u001b[38;5;124m선생님의 이름도 모르다니...\u001b[39m\u001b[38;5;124m'\u001b[39m)\n\u001b[0;32m      7\u001b[0m check_teacher(\u001b[38;5;124m'\u001b[39m\u001b[38;5;124m토끼\u001b[39m\u001b[38;5;124m'\u001b[39m)\n\u001b[1;32m----> 8\u001b[0m \u001b[43mcheck_teacher\u001b[49m\u001b[43m(\u001b[49m\u001b[38;5;124;43m'\u001b[39;49m\u001b[38;5;124;43m판다\u001b[39;49m\u001b[38;5;124;43m'\u001b[39;49m\u001b[43m)\u001b[49m\n\u001b[0;32m     10\u001b[0m \u001b[38;5;28mprint\u001b[39m(\u001b[38;5;124m'\u001b[39m\u001b[38;5;124m여기는 출력이 안됩니다!\u001b[39m\u001b[38;5;124m'\u001b[39m)\n",
      "Cell \u001b[1;32mIn[5], line 5\u001b[0m, in \u001b[0;36mcheck_teacher\u001b[1;34m(teacher_name)\u001b[0m\n\u001b[0;32m      3\u001b[0m    \u001b[38;5;28mprint\u001b[39m(\u001b[38;5;124m'\u001b[39m\u001b[38;5;124m훌륭합니다.\u001b[39m\u001b[38;5;124m'\u001b[39m)\n\u001b[0;32m      4\u001b[0m \u001b[38;5;28;01melse\u001b[39;00m:\n\u001b[1;32m----> 5\u001b[0m     \u001b[38;5;28;01mraise\u001b[39;00m NotMyTeacher(\u001b[38;5;124m'\u001b[39m\u001b[38;5;124m선생님의 이름도 모르다니...\u001b[39m\u001b[38;5;124m'\u001b[39m)\n",
      "\u001b[1;31mNotMyTeacher\u001b[0m: 선생님의 이름도 모르다니..."
     ]
    }
   ],
   "source": [
    "def check_teacher(teacher_name):\n",
    "    if teacher_name =='토끼':\n",
    "       print('훌륭합니다.')\n",
    "    else:\n",
    "        raise NotMyTeacher('선생님의 이름도 모르다니...')\n",
    "    \n",
    "check_teacher('토끼')\n",
    "check_teacher('판다')\n",
    "\n",
    "print('여기는 출력이 안됩니다!') # 오류가 난 시점부터 프로그램이 중단이 됨 -> 예외처리가 필요함"
   ]
  },
  {
   "cell_type": "code",
   "execution_count": null,
   "metadata": {},
   "outputs": [
    {
     "name": "stdout",
     "output_type": "stream",
     "text": [
      "예외가 발생했습니다!!!\n",
      "그러나 중단되지는 않았어요!!!\n"
     ]
    }
   ],
   "source": [
    "def check_teacher(teacher_name):\n",
    "    if teacher_name =='토끼':\n",
    "       print('훌륭합니다.')\n",
    "    else:\n",
    "        raise NotMyTeacher('선생님의 이름도 모르다니...')\n",
    "    \n",
    "try:\n",
    "    check_teacher('판다')\n",
    "    check_teacher('토끼')\n",
    "    print('이건 출력되지 않아요!!') # try문에서 오류가 발생하지 않으면 그 시점에서 except로 이동\n",
    "except:\n",
    "    print('예외가 발생했습니다!!!')\n",
    "\n",
    "print('그러나 중단되지는 않았어요!!!')"
   ]
  },
  {
   "cell_type": "code",
   "execution_count": null,
   "metadata": {},
   "outputs": [
    {
     "ename": "IndexError",
     "evalue": "list index out of range",
     "output_type": "error",
     "traceback": [
      "\u001b[1;31m---------------------------------------------------------------------------\u001b[0m",
      "\u001b[1;31mIndexError\u001b[0m                                Traceback (most recent call last)",
      "Cell \u001b[1;32mIn[17], line 2\u001b[0m\n\u001b[0;32m      1\u001b[0m test_list\u001b[38;5;241m=\u001b[39m[\u001b[38;5;241m2025\u001b[39m,\u001b[38;5;241m2\u001b[39m,\u001b[38;5;241m17\u001b[39m]\n\u001b[1;32m----> 2\u001b[0m \u001b[38;5;28mprint\u001b[39m(\u001b[43mtest_list\u001b[49m\u001b[43m[\u001b[49m\u001b[38;5;241;43m100\u001b[39;49m\u001b[43m]\u001b[49m) \u001b[38;5;66;03m#IndexError\u001b[39;00m\n\u001b[0;32m      3\u001b[0m \u001b[38;5;28mprint\u001b[39m(\u001b[38;5;241m2025\u001b[39m\u001b[38;5;241m/\u001b[39m\u001b[38;5;241m0\u001b[39m)\n",
      "\u001b[1;31mIndexError\u001b[0m: list index out of range"
     ]
    }
   ],
   "source": [
    "test_list=[2025,2,17]\n",
    "print(test_list[100]) # IndexError"
   ]
  },
  {
   "cell_type": "code",
   "execution_count": null,
   "metadata": {},
   "outputs": [
    {
     "ename": "ZeroDivisionError",
     "evalue": "division by zero",
     "output_type": "error",
     "traceback": [
      "\u001b[1;31m---------------------------------------------------------------------------\u001b[0m",
      "\u001b[1;31mZeroDivisionError\u001b[0m                         Traceback (most recent call last)",
      "Cell \u001b[1;32mIn[19], line 1\u001b[0m\n\u001b[1;32m----> 1\u001b[0m \u001b[38;5;28mprint\u001b[39m(\u001b[38;5;241;43m2025\u001b[39;49m\u001b[38;5;241;43m/\u001b[39;49m\u001b[38;5;241;43m0\u001b[39;49m)\n",
      "\u001b[1;31mZeroDivisionError\u001b[0m: division by zero"
     ]
    }
   ],
   "source": [
    "print(2025/0) # ZeroDivisionError"
   ]
  },
  {
   "cell_type": "code",
   "execution_count": null,
   "metadata": {},
   "outputs": [
    {
     "name": "stdout",
     "output_type": "stream",
     "text": [
      "인덱싱 범위를 초과했습니다.\n"
     ]
    }
   ],
   "source": [
    "try:\n",
    "    test_list=[2025,2,17]\n",
    "    print(test_list[100])\n",
    "\n",
    "    print(2025/0)\n",
    "except IndexError: # IndexError 예외처리\n",
    "    print('인덱싱 범위를 초과했습니다.')\n",
    "except ZeroDivisionError: # ZeroDivisionError 예외처리\n",
    "    print('0으로는 나눌 수 없습니다.')"
   ]
  },
  {
   "cell_type": "code",
   "execution_count": 26,
   "metadata": {},
   "outputs": [
    {
     "name": "stdout",
     "output_type": "stream",
     "text": [
      "2\n",
      "1012.5\n",
      "예외가 발생하지 않음!\n",
      "finally는 언제나 실행됨!!\n"
     ]
    }
   ],
   "source": [
    "try:\n",
    "    idx=int(input('index 숫자: '))\n",
    "    test_list=[2025,2,17]\n",
    "    print(test_list[idx])\n",
    "\n",
    "    num=int(input('나누는 수: '))\n",
    "    print(2025/num)\n",
    "\n",
    "except IndexError: # IndexError 예외처리\n",
    "    print('인덱싱 범위를 초과했습니다.')\n",
    "\n",
    "except ZeroDivisionError: # ZeroDivisionError 예외처리\n",
    "    print('0으로는 나눌 수 없습니다.')\n",
    "\n",
    "else:\n",
    "    print('예외가 발생하지 않음!') # else는 try 구문 내 코드가 정상작동 했을때 동작한다.\n",
    "\n",
    "finally:\n",
    "    print('finally는 언제나 실행됨!!') # finally는 프로그램의 오류,정상 작동 처리 유무랑 상관 없이 작동한다. "
   ]
  },
  {
   "cell_type": "markdown",
   "metadata": {},
   "source": [
    "### **문제 1: 모든 예외 처리**\n",
    "\n",
    "토끼는 파일에서 데이터를 읽으려고 하지만, 파일이 없을 경우 프로그램이 중단되지 않도록 처리하고 싶습니다.\n",
    "\n",
    "1. `data.txt` 파일을 읽으려고 시도하세요.\n",
    "2. 파일이 없을 경우, `\"파일이 존재하지 않습니다.\"`를 출력하세요.\n",
    "3. 파일이 존재하면 파일 내용을 출력하세요.\n",
    "\n",
    "---"
   ]
  },
  {
   "cell_type": "code",
   "execution_count": null,
   "metadata": {},
   "outputs": [
    {
     "name": "stdout",
     "output_type": "stream",
     "text": [
      "파일이 존재하지 않습니다.\n"
     ]
    }
   ],
   "source": [
    "try:\n",
    "    f1=open('data#.txt','r',encoding='utf=8')\n",
    "    print(f1.read())\n",
    "    f1.close()\n",
    "except FileNotFoundError:\n",
    "    print('파일이 존재하지 않습니다.')"
   ]
  },
  {
   "cell_type": "markdown",
   "metadata": {},
   "source": [
    "### **문제 2: 특정 예외 처리**\n",
    "\n",
    "토끼는 사용자에게 나이를 입력받아 성인인지 확인하려고 합니다.\n",
    "\n",
    "1. 사용자로부터 나이를 입력받아 정수로 변환하세요.\n",
    "2. 입력값이 숫자가 아닐 경우, `\"숫자를 입력해야 합니다.\"`를 출력하세요.\n",
    "3. 숫자가 올바르게 입력되면 나이가 19 이상인지 확인하고, 19 이상이면 `\"성인입니다.\"`, 그렇지 않으면 `\"미성년자입니다.\"`를 출력하세요.\n",
    "\n",
    "---"
   ]
  },
  {
   "cell_type": "code",
   "execution_count": null,
   "metadata": {},
   "outputs": [
    {
     "name": "stdout",
     "output_type": "stream",
     "text": [
      "미성년자 입니다.\n"
     ]
    }
   ],
   "source": [
    "try:\n",
    "    age=int(input('나이를 입력하세요'))\n",
    "    if age>=19:\n",
    "        print('성인입니다.')\n",
    "    else:\n",
    "        print('미성년자 입니다.')\n",
    "\n",
    "except ValueError:\n",
    "    print('숫자를 입력해야 합니다.')"
   ]
  },
  {
   "cell_type": "markdown",
   "metadata": {},
   "source": [
    "### **문제 3: 특수 예외 상황과 오류 변수 사용**\n",
    "\n",
    "토끼는 숫자 두 개를 입력받아 나누기를 수행하려고 합니다.\n",
    "\n",
    "1. 사용자로부터 두 숫자를 입력받아 나누기를 수행하세요.\n",
    "2. 첫 번째 숫자가 0으로 나누기를 시도하면 `\"0으로 나눌 수 없습니다.\"`를 출력하세요.\n",
    "3. 입력값이 숫자가 아니면 `\"숫자를 입력해야 합니다.\"`를 출력하세요.\n",
    "4. 오류 메시지를 출력할 때 발생한 오류 내용을 함께 출력하세요.\n",
    "\n",
    "---"
   ]
  },
  {
   "cell_type": "code",
   "execution_count": 61,
   "metadata": {},
   "outputs": [
    {
     "name": "stdout",
     "output_type": "stream",
     "text": [
      "계산된 숫자는 :  0.5\n"
     ]
    }
   ],
   "source": [
    "try:\n",
    "    num1=int(input('나누어질 숫자를 입력해주십시오: '))\n",
    "    num2=int(input('나눌 숫자를 입력해주십시오: '))\n",
    "\n",
    "    print('계산된 숫자는 : ', num1/num2)\n",
    "\n",
    "except ValueError as e:\n",
    "    print('숫자를 입력해야 합니다.')\n",
    "except ZeroDivisionError as e:\n",
    "    print('0으로 나눌 수 없습니다.')"
   ]
  },
  {
   "cell_type": "markdown",
   "metadata": {},
   "source": [
    "### **문제 4: finally 블럭**\n",
    "\n",
    "토끼는 프로그램 실행 후 파일 자원을 반드시 정리해야 합니다.\n",
    "\n",
    "1. `log.txt` 파일을 읽으려고 시도하세요.\n",
    "2. 파일을 여는 중 예외가 발생할 경우, `\"파일을 열 수 없습니다.\"`를 출력하세요.\n",
    "3. 예외 발생 여부와 상관없이 파일 자원을 정리하는 메시지 `\"파일 자원 정리 완료\"`를 출력하세요.\n",
    "\n",
    "---"
   ]
  },
  {
   "cell_type": "code",
   "execution_count": 64,
   "metadata": {},
   "outputs": [
    {
     "name": "stdout",
     "output_type": "stream",
     "text": [
      "파일이 존재하지 않습니다.\n",
      "파일 자원 정리 완료\n"
     ]
    }
   ],
   "source": [
    "f2=None\n",
    "\n",
    "try:\n",
    "    f2=open('log.txt','r',encoding='utf=8')\n",
    "    print(f2.read())\n",
    "except:\n",
    "    print('파일이 존재하지 않습니다.')\n",
    "\n",
    "finally:\n",
    "    if f2:\n",
    "        f2.close()\n",
    "    print('파일 자원 정리 완료')"
   ]
  },
  {
   "cell_type": "markdown",
   "metadata": {},
   "source": [
    "### **문제 5: try-else 블럭**\n",
    "\n",
    "토끼는 사용자로부터 숫자를 입력받아 2로 나눈 결과를 출력하려고 합니다.\n",
    "\n",
    "1. 사용자로부터 숫자를 입력받아 정수로 변환하세요.\n",
    "2. 입력값이 숫자가 아닐 경우 `\"숫자를 입력해야 합니다.\"`를 출력하세요.\n",
    "3. 숫자가 올바르게 입력되면 입력값을 2로 나눈 결과를 출력하세요.\n",
    "\n",
    "---"
   ]
  },
  {
   "cell_type": "code",
   "execution_count": 60,
   "metadata": {},
   "outputs": [
    {
     "name": "stdout",
     "output_type": "stream",
     "text": [
      "2로 나눈 결과:  55555555.5\n"
     ]
    }
   ],
   "source": [
    "try:\n",
    "    num3= int(input('숫자를 입력해 주십시오: '))\n",
    "    \n",
    "except:\n",
    "    print('숫자를 입력해야 합니다.')\n",
    "\n",
    "else:\n",
    "    print('2로 나눈 결과: ',num3/2)"
   ]
  }
 ],
 "metadata": {
  "kernelspec": {
   "display_name": "pystudy_env",
   "language": "python",
   "name": "python3"
  },
  "language_info": {
   "codemirror_mode": {
    "name": "ipython",
    "version": 3
   },
   "file_extension": ".py",
   "mimetype": "text/x-python",
   "name": "python",
   "nbconvert_exporter": "python",
   "pygments_lexer": "ipython3",
   "version": "3.12.9"
  }
 },
 "nbformat": 4,
 "nbformat_minor": 2
}
