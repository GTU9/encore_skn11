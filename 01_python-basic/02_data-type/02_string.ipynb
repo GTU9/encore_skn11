{
 "cells": [
  {
   "cell_type": "markdown",
   "metadata": {},
   "source": [
    "### 문자열(String)"
   ]
  },
  {
   "cell_type": "code",
   "execution_count": 5,
   "metadata": {},
   "outputs": [
    {
     "name": "stdout",
     "output_type": "stream",
     "text": [
      "김상익 나지윤 이건 안돼요!\"\n"
     ]
    }
   ],
   "source": [
    "my_name='김상익'\n",
    "your_name=\"나지윤\"\n",
    "error_name='이건 안돼요!\"'\n",
    "\n",
    "print(my_name,your_name,error_name)"
   ]
  },
  {
   "cell_type": "code",
   "execution_count": 6,
   "metadata": {},
   "outputs": [
    {
     "name": "stdout",
     "output_type": "stream",
     "text": [
      "<class 'str'>\n"
     ]
    }
   ],
   "source": [
    "print(type(my_name))"
   ]
  },
  {
   "cell_type": "code",
   "execution_count": 8,
   "metadata": {},
   "outputs": [
    {
     "name": "stdout",
     "output_type": "stream",
     "text": [
      "\n",
      "\n",
      "hello\n",
      "\n",
      "world\n",
      "\n",
      "\n"
     ]
    }
   ],
   "source": [
    "line=\"\"\"\n",
    "\n",
    "hello\n",
    "\n",
    "world\n",
    "\n",
    "\"\"\"\n",
    "\n",
    "print(line)"
   ]
  },
  {
   "cell_type": "code",
   "execution_count": 13,
   "metadata": {},
   "outputs": [
    {
     "name": "stdout",
     "output_type": "stream",
     "text": [
      "오늘의 점심 메뉴는? 대방어회🐟\n",
      "대방어회🐟대방어회🐟대방어회🐟대방어회🐟대방어회🐟\n"
     ]
    }
   ],
   "source": [
    "str1='오늘의 점심 메뉴는?'\n",
    "str2='대방어회🐟'\n",
    "\n",
    "print(str1+' '+str2)\n",
    "# print(str1- str2) #TypeError '-' 연산은 불가능하다\n",
    "print(str2*5)"
   ]
  },
  {
   "cell_type": "code",
   "execution_count": null,
   "metadata": {},
   "outputs": [
    {
     "name": "stdout",
     "output_type": "stream",
     "text": [
      "2025-02-11\n",
      "2025/02/11\n"
     ]
    }
   ],
   "source": [
    "# replace(old_str,new_str)   old_str -> new_str 대체  다만,원본에는 영향을 주지 않는다.\n",
    "today='2025/02/11'\n",
    "print(today.replace('/','-')) \n",
    "print(today)"
   ]
  },
  {
   "cell_type": "code",
   "execution_count": null,
   "metadata": {},
   "outputs": [
    {
     "name": "stdout",
     "output_type": "stream",
     "text": [
      "say heloooo\n",
      "    say heloooo \n"
     ]
    }
   ],
   "source": [
    "# strip() 문자열 앞,뒤의 공백을 제거함 다만, 원본에는 영향을 주지 않는다.\n",
    "my_str='    say heloooo '\n",
    "print(my_str.strip())\n",
    "print(my_str)"
   ]
  },
  {
   "cell_type": "code",
   "execution_count": null,
   "metadata": {},
   "outputs": [
    {
     "name": "stdout",
     "output_type": "stream",
     "text": [
      "HELLO WORLD\n",
      "hello world\n",
      "Hello world\n"
     ]
    }
   ],
   "source": [
    "txt= 'hELLO wORLD'\n",
    "print(txt.upper()) #upper() 문자열의 소문자를 대문자로 변형\n",
    "print(txt.lower()) #lower() 문자열의 대문자를 소문자로 변형\n",
    "print(txt.capitalize()) #capitalize() 문자열의 첫 문자를 대문자로 변형하고 나머지 문자를 소문자로 변형"
   ]
  },
  {
   "cell_type": "markdown",
   "metadata": {},
   "source": [
    "---\n",
    "### 포멧팅"
   ]
  },
  {
   "cell_type": "code",
   "execution_count": 23,
   "metadata": {},
   "outputs": [
    {
     "name": "stdout",
     "output_type": "stream",
     "text": [
      "고양이는 겨울철 양식으로 고구마  개를 저장 했습니다.\n",
      "고양이는 겨울철 양식으로  고구마  7 개를 저장 했습니다.\n"
     ]
    }
   ],
   "source": [
    "food='고구마 '\n",
    "count=7\n",
    "\n",
    "print('고양이는 겨울철 양식으로 '+food+' 개를 저장 했습니다.')\n",
    "print('고양이는 겨울철 양식으로 ',food,count,'개를 저장 했습니다.')"
   ]
  },
  {
   "cell_type": "code",
   "execution_count": 29,
   "metadata": {},
   "outputs": [
    {
     "name": "stdout",
     "output_type": "stream",
     "text": [
      "x는 10입니다.\n",
      "y는 123.46입니다.\n"
     ]
    }
   ],
   "source": [
    "# % 포멧팅\n",
    "\n",
    "x=10\n",
    "y=123.456\n",
    "print(\"x는 %d입니다.\" % x)\n",
    "print(\"y는 %.2f입니다.\" % y)"
   ]
  },
  {
   "cell_type": "code",
   "execution_count": null,
   "metadata": {},
   "outputs": [
    {
     "name": "stdout",
     "output_type": "stream",
     "text": [
      "x는 10, y는 123.456\n",
      "x는 10, y는 123.456\n"
     ]
    }
   ],
   "source": [
    "# str.format()\n",
    "print(\"x는 {0}, y는 {1}\".format(x,y))\n",
    "print(\"x는 {a}, y는 {b}\".format(a=x,b=y))"
   ]
  },
  {
   "cell_type": "code",
   "execution_count": null,
   "metadata": {},
   "outputs": [
    {
     "name": "stdout",
     "output_type": "stream",
     "text": [
      "고양이는 겨울철 양식으로 빅맥 100개를 먹었습니다.\n"
     ]
    }
   ],
   "source": [
    "# f-string 문자열에 직접 {변수명}을 사용하여 대입함\n",
    "\n",
    "food='빅맥'\n",
    "count=100\n",
    "\n",
    "print(f'고양이는 겨울철 양식으로 {food} {count}개를 먹었습니다.')\n",
    "result_str=f'고양이는 겨울철 양식으로 {food} {count}개를 먹었습니다.'\n",
    "print(result_str)"
   ]
  },
  {
   "cell_type": "markdown",
   "metadata": {},
   "source": [
    "### **문문제 1**\n",
    "\n",
    "아래 조건에 맞게 변수를 선언하고 결과를 출력하세요.\n",
    "\n",
    "1. `greeting_message` 변수에 문자열 `\"Hello\"`를 저장합니다.\n",
    "2. `greeting_target` 변수에 `\"World\"`를 저장합니다.\n",
    "3. 두 문자열을 이어 붙여 `\"HelloWorld\"`를 출력하세요.\n",
    "\n",
    "---"
   ]
  },
  {
   "cell_type": "code",
   "execution_count": 34,
   "metadata": {},
   "outputs": [
    {
     "name": "stdout",
     "output_type": "stream",
     "text": [
      "Hello World\n"
     ]
    }
   ],
   "source": [
    "greeting_message='Hello '\n",
    "greeting_target='World'\n",
    "print(greeting_message+greeting_target)"
   ]
  },
  {
   "cell_type": "markdown",
   "metadata": {},
   "source": [
    "### **문제 2**\n",
    "\n",
    "1. `age`에 당신의 나이, `city`에 당신의 거주지를 저장합니다.\n",
    "2. f-string을 사용하여 다음 문장과 같은 형태로 출력하세요.\n",
    "    - `\"나는 25살이고, Seoul에 살고 있습니다.\"`\n",
    "---"
   ]
  },
  {
   "cell_type": "code",
   "execution_count": 35,
   "metadata": {},
   "outputs": [
    {
     "name": "stdout",
     "output_type": "stream",
     "text": [
      "나는 270살이고, 퇴계원에 살고 있습니다.\n"
     ]
    }
   ],
   "source": [
    "age=270\n",
    "city='퇴계원'\n",
    "print(f'나는 {age}살이고, {city}에 살고 있습니다.')"
   ]
  }
 ],
 "metadata": {
  "kernelspec": {
   "display_name": "pystudy_env",
   "language": "python",
   "name": "python3"
  },
  "language_info": {
   "codemirror_mode": {
    "name": "ipython",
    "version": 3
   },
   "file_extension": ".py",
   "mimetype": "text/x-python",
   "name": "python",
   "nbconvert_exporter": "python",
   "pygments_lexer": "ipython3",
   "version": "3.12.9"
  }
 },
 "nbformat": 4,
 "nbformat_minor": 2
}
