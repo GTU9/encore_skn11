{
 "cells": [
  {
   "cell_type": "markdown",
   "metadata": {},
   "source": [
    "### 함수"
   ]
  },
  {
   "cell_type": "code",
   "execution_count": 3,
   "metadata": {},
   "outputs": [],
   "source": [
    "def greeting(name, greeting='처음 뵙겠습니다.'):\n",
    "    print(name,':', greeting)"
   ]
  },
  {
   "cell_type": "code",
   "execution_count": null,
   "metadata": {},
   "outputs": [
    {
     "name": "stdout",
     "output_type": "stream",
     "text": [
      "방어 : 난 생선이다\n"
     ]
    }
   ],
   "source": [
    "greeting('방어','난 생선이다')"
   ]
  },
  {
   "cell_type": "code",
   "execution_count": 3,
   "metadata": {},
   "outputs": [],
   "source": [
    "def print_greeting():\n",
    "    print('좋은 아침입니다! 수요일도 화이팅!!!!')"
   ]
  },
  {
   "cell_type": "code",
   "execution_count": 4,
   "metadata": {},
   "outputs": [
    {
     "name": "stdout",
     "output_type": "stream",
     "text": [
      "좋은 아침입니다! 수요일도 화이팅!!!!\n"
     ]
    }
   ],
   "source": [
    "print_greeting()"
   ]
  },
  {
   "cell_type": "code",
   "execution_count": 10,
   "metadata": {},
   "outputs": [
    {
     "name": "stdout",
     "output_type": "stream",
     "text": [
      "좋은 아침입니다! 수요일도 화이팅!\n"
     ]
    }
   ],
   "source": [
    "# 파라미터 x , return o-> '좋은 아침입니다! 수요일도 화이팅!' 반환\n",
    "def hi1():\n",
    "    return '좋은 아침입니다! 수요일도 화이팅!'\n",
    "\n",
    "print(hi1())"
   ]
  },
  {
   "cell_type": "code",
   "execution_count": 7,
   "metadata": {},
   "outputs": [
    {
     "name": "stdout",
     "output_type": "stream",
     "text": [
      "좋은 아침입니다! 수요일도 화이팅!\n",
      "방방이님 좋은 아침입니다! 수요일도 화이팅!!\n"
     ]
    }
   ],
   "source": [
    "# 파라미터 o , return x-> '좋은 아침입니다! 수요일도 화이팅!' 출력, 피라미터로 인사할 사람 이름 '(이름)님 좋은 아침입니다! 수요일도 화이팅!!' 출력\n",
    "def hi2(name):\n",
    "    print('좋은 아침입니다! 수요일도 화이팅!')\n",
    "    print(f'{name}님 좋은 아침입니다! 수요일도 화이팅!!')\n",
    "\n",
    "hi2('방방이')"
   ]
  },
  {
   "cell_type": "code",
   "execution_count": null,
   "metadata": {},
   "outputs": [
    {
     "name": "stdout",
     "output_type": "stream",
     "text": [
      "방방이님 좋은 아침입니다! 수요일도 화이팅!!\n"
     ]
    }
   ],
   "source": [
    "# 파라미터 o,  return o->  피라미터로 인사할 사람 이름 '(이름)님 좋은 아침입니다! 수요일도 화이팅!!' 출력\n",
    "def hi3(name):\n",
    "    return f'{name}님 좋은 아침입니다! 수요일도 화이팅!!'\n",
    "\n",
    "print(hi3('방방이'))"
   ]
  },
  {
   "cell_type": "code",
   "execution_count": 17,
   "metadata": {},
   "outputs": [],
   "source": [
    "def return_var_greeting(name,time):\n",
    "    return f'{name}님, 좋은 {time}입니다!'"
   ]
  },
  {
   "cell_type": "code",
   "execution_count": null,
   "metadata": {},
   "outputs": [
    {
     "name": "stdout",
     "output_type": "stream",
     "text": [
      "토끼님, 좋은 아침입니다!\n",
      "다람쥐님, 좋은 점심입니다!\n",
      "판다님, 좋은 저녁입니다!\n",
      "고래님, 좋은 새벽입니다!\n"
     ]
    }
   ],
   "source": [
    "print(return_var_greeting('토끼','아침'))\n",
    "print(return_var_greeting(name='다람쥐',time='점심'))\n",
    "print(return_var_greeting(time='저녁',name='판다'))\n",
    "print(return_var_greeting('고래',time='새벽')) #위치 인자가 키워드 인자보다 우선권을 가진다."
   ]
  },
  {
   "cell_type": "markdown",
   "metadata": {},
   "source": [
    "---\n",
    "### 패키징과 언패키징"
   ]
  },
  {
   "cell_type": "code",
   "execution_count": 30,
   "metadata": {},
   "outputs": [],
   "source": [
    "def call_animals(*animals_args):\n",
    "    for animal_name in animals_args:\n",
    "        print(animal_name)"
   ]
  },
  {
   "cell_type": "code",
   "execution_count": 31,
   "metadata": {},
   "outputs": [
    {
     "name": "stdout",
     "output_type": "stream",
     "text": [
      "토끼\n",
      "코끼리\n",
      "새우\n",
      "고래\n",
      "상어\n",
      "카멜레온\n"
     ]
    }
   ],
   "source": [
    "call_animals('토끼','코끼리','새우','고래','상어','카멜레온')"
   ]
  },
  {
   "cell_type": "code",
   "execution_count": 32,
   "metadata": {},
   "outputs": [],
   "source": [
    "def multi_sum(num1,num2,num3,num4,num5):\n",
    "    return num1+num2+num3+num4+num5"
   ]
  },
  {
   "cell_type": "code",
   "execution_count": null,
   "metadata": {},
   "outputs": [
    {
     "name": "stdout",
     "output_type": "stream",
     "text": [
      "2077\n"
     ]
    }
   ],
   "source": [
    "numbers=[2025,2,12,11,27]\n",
    "print(multi_sum(*numbers))"
   ]
  }
 ],
 "metadata": {
  "kernelspec": {
   "display_name": "pystudy_env",
   "language": "python",
   "name": "python3"
  },
  "language_info": {
   "codemirror_mode": {
    "name": "ipython",
    "version": 3
   },
   "file_extension": ".py",
   "mimetype": "text/x-python",
   "name": "python",
   "nbconvert_exporter": "python",
   "pygments_lexer": "ipython3",
   "version": "3.12.9"
  }
 },
 "nbformat": 4,
 "nbformat_minor": 2
}
