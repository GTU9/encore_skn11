{
 "cells": [
  {
   "cell_type": "markdown",
   "metadata": {},
   "source": [
    "# 규제 선형 모델"
   ]
  },
  {
   "cell_type": "markdown",
   "metadata": {
    "vscode": {
     "languageId": "plaintext"
    }
   },
   "source": [
    "- 다항식이 복잡해지면서 회귀 계수값이 크게 설정되고 과대 적합을 유발함\n",
    "    -> 훈련 데이터에서는 높은 성능을 보이지만, 테스트 데이터에서는 낮은 성능을 보임\n",
    "\n",
    "- 선형 모델의 목적은 비용 함수를 최소화 하는 것\n",
    "- 이때, 규제 선형 모델은 비용 함수를 최소화 하는 데에 패널티(alpha)를 적용해 회귀 계수의 크기를 제한함"
   ]
  },
  {
   "cell_type": "code",
   "execution_count": 12,
   "metadata": {},
   "outputs": [],
   "source": [
    "import numpy as np\n",
    "import pandas as pd\n",
    "import matplotlib.pyplot as plt\n",
    "import seaborn as sns\n"
   ]
  },
  {
   "cell_type": "markdown",
   "metadata": {},
   "source": [
    "### Rige 회귀\n",
    "- L2 규제를 적용한 회귀 모델\n",
    "- 회귀 계수들의 제곱합에 alhpah 패널치를 곱해 비용 산정에 반영\n",
    "- alpha 값이 커지면 회귀 계수가 작아짐 -> 과대적합 방지"
   ]
  },
  {
   "cell_type": "code",
   "execution_count": 13,
   "metadata": {},
   "outputs": [],
   "source": [
    "from sklearn.model_selection import train_test_split\n",
    "\n",
    "boston_df=pd.read_csv('./data/boston_housing_train.csv')\n",
    "\n",
    "X=boston_df.drop('MEDV',axis=1)\n",
    "y=boston_df['MEDV']\n",
    "\n",
    "X_train, X_test, y_train, y_test=train_test_split(X,y,random_state=42)"
   ]
  },
  {
   "cell_type": "code",
   "execution_count": 14,
   "metadata": {},
   "outputs": [
    {
     "name": "stdout",
     "output_type": "stream",
     "text": [
      "0.7461161787884155 0.678974832784608\n",
      "[-0.12383039  0.03139178  0.01767668  2.54277179 -8.77249222  4.37980204\n",
      " -0.01537349 -1.29086084  0.24406848 -0.01082435 -0.83346553  0.01348642\n",
      " -0.53435396]\n"
     ]
    }
   ],
   "source": [
    "from sklearn.linear_model import Ridge\n",
    "reg=Ridge()\n",
    "\n",
    "reg.fit(X_train,y_train)\n",
    "\n",
    "print(reg.score(X_train,y_train),reg.score(X_test,y_test))\n",
    "\n",
    "print(reg.coef_)"
   ]
  },
  {
   "cell_type": "code",
   "execution_count": 15,
   "metadata": {},
   "outputs": [],
   "source": [
    "# reg.alpha"
   ]
  },
  {
   "cell_type": "code",
   "execution_count": 16,
   "metadata": {},
   "outputs": [],
   "source": [
    "# 다른 평가 지표\n",
    "from sklearn.metrics import mean_squared_error,root_mean_squared_error,mean_absolute_error,r2_score\n",
    "\n",
    "# 평가지표들\n",
    "def evauate_regression(y_true,y_pred):\n",
    "    mse=mean_squared_error(y_true,y_pred)\n",
    "    rmse=root_mean_squared_error(y_true,y_pred)\n",
    "    mae=mean_absolute_error(y_true,y_pred)\n",
    "    r2=r2_score(y_true,y_pred)\n",
    "    print(f\"'MSE': {mse}, 'RMSE' : {rmse}, 'MAE' : {mae}, 'R2' : {r2}\")"
   ]
  },
  {
   "cell_type": "code",
   "execution_count": 18,
   "metadata": {},
   "outputs": [
    {
     "name": "stdout",
     "output_type": "stream",
     "text": [
      "0.9438738432321337 0.7872498200566541\n",
      "'MSE': 14.898287413368152, 'RMSE' : 3.8598299720801372, 'MAE' : 2.536591106635486, 'R2' : 0.7872498200566541\n"
     ]
    }
   ],
   "source": [
    "from sklearn.pipeline import Pipeline\n",
    "from sklearn.preprocessing import PolynomialFeatures\n",
    "\n",
    "model=Pipeline([\n",
    "    ('poly',PolynomialFeatures(include_bias=False,degree=2)),\n",
    "    ('reg',Ridge(alpha=0.01))\n",
    "])\n",
    "\n",
    "model.fit(X_train,y_train)\n",
    "print(model.score(X_train,y_train),model.score(X_test,y_test))\n",
    "evauate_regression(y_test,model.predict(X_test))"
   ]
  }
 ],
 "metadata": {
  "kernelspec": {
   "display_name": "pystudy_env",
   "language": "python",
   "name": "python3"
  },
  "language_info": {
   "codemirror_mode": {
    "name": "ipython",
    "version": 3
   },
   "file_extension": ".py",
   "mimetype": "text/x-python",
   "name": "python",
   "nbconvert_exporter": "python",
   "pygments_lexer": "ipython3",
   "version": "3.12.9"
  }
 },
 "nbformat": 4,
 "nbformat_minor": 2
}
